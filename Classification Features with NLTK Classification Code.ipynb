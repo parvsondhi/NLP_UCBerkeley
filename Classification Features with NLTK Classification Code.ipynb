{
 "cells": [
  {
   "cell_type": "markdown",
   "metadata": {},
   "source": [
    "# Text Classification Features and NLTK Classification Code #\n",
    "This example is based on the NLTK book and uses the Names collection to guess gender of names."
   ]
  },
  {
   "cell_type": "code",
   "execution_count": 1,
   "metadata": {
    "collapsed": false
   },
   "outputs": [],
   "source": [
    "%matplotlib inline\n",
    "import nltk\n",
    "from nltk.corpus import names\n",
    "import random"
   ]
  },
  {
   "cell_type": "markdown",
   "metadata": {},
   "source": [
    "** A feature recognition function **"
   ]
  },
  {
   "cell_type": "code",
   "execution_count": 36,
   "metadata": {
    "collapsed": false
   },
   "outputs": [
    {
     "data": {
      "text/plain": [
       "{'last_letter': 'a'}"
      ]
     },
     "execution_count": 36,
     "metadata": {},
     "output_type": "execute_result"
    }
   ],
   "source": [
    "def gender_features(word):\n",
    "    return {'last_letter': word[-1]}\n",
    "\n",
    "gender_features('Samantha')"
   ]
  },
  {
   "cell_type": "markdown",
   "metadata": {},
   "source": [
    "** Create name datasets ** "
   ]
  },
  {
   "cell_type": "code",
   "execution_count": 37,
   "metadata": {
    "collapsed": false
   },
   "outputs": [],
   "source": [
    "def create_name_data():\n",
    "    male_names = [(name, 'male') for name in names.words('male.txt')]\n",
    "    female_names = [(name, 'female') for name in names.words('female.txt')]\n",
    "    allnames = male_names + female_names\n",
    "    \n",
    "    # Randomize the order of male and female names, and de-alphabatize\n",
    "    random.shuffle(allnames)\n",
    "    return allnames\n",
    "\n",
    "names_data = create_name_data()"
   ]
  },
  {
   "cell_type": "markdown",
   "metadata": {},
   "source": [
    "** Make Training, Development, and Test Data Sets **\n",
    "\n",
    "We  need a development set to test our features on before testing on the real test set. So let's redo our division of the data. In this case we do the dividing up before applying the feature selection so we can keep track of the names."
   ]
  },
  {
   "cell_type": "code",
   "execution_count": 38,
   "metadata": {
    "collapsed": false
   },
   "outputs": [],
   "source": [
    "# This function allows experimentation with different feature definitions\n",
    "# items is a list of (key, value) pairs from which features are extracted and training sets are made\n",
    "# Feature sets returned are dictionaries of features\n",
    "\n",
    "# This function also optionally returns the names of the training, development, \n",
    "# and test data for the purposes of error checking\n",
    "\n",
    "def create_training_sets (feature_function, items, return_items=False):\n",
    "    # Create the features sets.  Call the function that was passed in.\n",
    "    # For names data, key is the name, and value is the gender\n",
    "    featuresets = [(feature_function(key), value) for (key, value) in items]\n",
    "    \n",
    "    # Divided training and testing in thirds.  Could divide in other proportions instead.\n",
    "    third = int(float(len(featuresets)) / 3.0)\n",
    "    \n",
    "    train_set, dev_set, test_set = featuresets[0:third], featuresets[third:third*2], featuresets[third*2:]\n",
    "    train_items, dev_items, test_items = items[0:third], items[third:third*2], items[third*2:]\n",
    "    if return_items == True:\n",
    "        return train_set, dev_set, test_set, train_items, dev_items, test_items\n",
    "    else:\n",
    "        return train_set, dev_set, test_set"
   ]
  },
  {
   "cell_type": "markdown",
   "metadata": {},
   "source": [
    "** Train the nltk classifier on the training data, with the first definition of features  **"
   ]
  },
  {
   "cell_type": "code",
   "execution_count": 39,
   "metadata": {
    "collapsed": false
   },
   "outputs": [],
   "source": [
    "# pass in a function name\n",
    "train_set, dev_set, test_set = create_training_sets(gender_features, names_data)\n",
    "cl = nltk.NaiveBayesClassifier.train(train_set)"
   ]
  },
  {
   "cell_type": "markdown",
   "metadata": {},
   "source": [
    "** Test the classifier on some examples **"
   ]
  },
  {
   "cell_type": "code",
   "execution_count": 40,
   "metadata": {
    "collapsed": false
   },
   "outputs": [
    {
     "name": "stdout",
     "output_type": "stream",
     "text": [
      "Carl: female\n",
      "Carla: female\n",
      "Carly: female\n",
      "Carlo: male\n",
      "Carlos: male\n"
     ]
    }
   ],
   "source": [
    "print (\"Carl: \" + cl.classify(gender_features('Carl')))\n",
    "print (\"Carla: \" + cl.classify(gender_features('Carla')))\n",
    "print (\"Carly: \" + cl.classify(gender_features('Carly')))\n",
    "print (\"Carlo: \" + cl.classify(gender_features('Carlo')))\n",
    "print (\"Carlos: \" + cl.classify(gender_features('Carlos')))\n"
   ]
  },
  {
   "cell_type": "code",
   "execution_count": 41,
   "metadata": {
    "collapsed": false
   },
   "outputs": [
    {
     "name": "stdout",
     "output_type": "stream",
     "text": [
      "Carli: female\n",
      "Carle: female\n",
      "Charles: male\n",
      "Carlie: female\n",
      "Charlie: female\n"
     ]
    }
   ],
   "source": [
    "print (\"Carli: \" + cl.classify(gender_features('Carli')))\n",
    "print (\"Carle: \" + cl.classify(gender_features('Carle')))\n",
    "print (\"Charles: \" + cl.classify(gender_features('Charles')))\n",
    "print (\"Carlie: \" + cl.classify(gender_features('Carlie')))\n",
    "print (\"Charlie: \" + cl.classify(gender_features('Charlie')))"
   ]
  },
  {
   "cell_type": "markdown",
   "metadata": {},
   "source": [
    "** Run the NLTK evaluation function on the development set **"
   ]
  },
  {
   "cell_type": "code",
   "execution_count": 42,
   "metadata": {
    "collapsed": false
   },
   "outputs": [
    {
     "name": "stdout",
     "output_type": "stream",
     "text": [
      "0.759\n"
     ]
    }
   ],
   "source": [
    "print (\"%.3f\" % nltk.classify.accuracy(cl, dev_set))"
   ]
  },
  {
   "cell_type": "markdown",
   "metadata": {},
   "source": [
    "** Run the NLTK feature inspection function on the classifier **"
   ]
  },
  {
   "cell_type": "code",
   "execution_count": 43,
   "metadata": {
    "collapsed": false
   },
   "outputs": [
    {
     "name": "stdout",
     "output_type": "stream",
     "text": [
      "Most Informative Features\n",
      "             last_letter = 'a'            female : male   =     36.3 : 1.0\n",
      "             last_letter = 'f'              male : female =     12.9 : 1.0\n",
      "             last_letter = 'v'              male : female =     10.6 : 1.0\n",
      "             last_letter = 'd'              male : female =      9.9 : 1.0\n",
      "             last_letter = 'r'              male : female =      9.0 : 1.0\n",
      "             last_letter = 'w'              male : female =      8.4 : 1.0\n",
      "             last_letter = 'o'              male : female =      8.0 : 1.0\n",
      "             last_letter = 'g'              male : female =      7.4 : 1.0\n",
      "             last_letter = 'm'              male : female =      7.2 : 1.0\n",
      "             last_letter = 'i'            female : male   =      5.6 : 1.0\n",
      "             last_letter = 's'              male : female =      3.6 : 1.0\n",
      "             last_letter = 'z'              male : female =      3.6 : 1.0\n",
      "             last_letter = 't'              male : female =      3.4 : 1.0\n",
      "             last_letter = 'b'              male : female =      3.2 : 1.0\n",
      "             last_letter = 'u'              male : female =      2.6 : 1.0\n"
     ]
    }
   ],
   "source": [
    "cl.show_most_informative_features(15)"
   ]
  },
  {
   "cell_type": "markdown",
   "metadata": {},
   "source": [
    "** Let's add some more features to improve results **"
   ]
  },
  {
   "cell_type": "code",
   "execution_count": 50,
   "metadata": {
    "collapsed": false
   },
   "outputs": [
    {
     "data": {
      "text/plain": [
       "{'first': 's', 'last': 'a', 'second': 'a'}"
      ]
     },
     "execution_count": 50,
     "metadata": {},
     "output_type": "execute_result"
    }
   ],
   "source": [
    "def gender_features2(word):\n",
    "    features = {}\n",
    "    word = word.lower()\n",
    "    features['last'] = word[-1]\n",
    "    features['first'] = word[:1]\n",
    "    features['second'] = word[1:2] # get the 'h' in Charlie?\n",
    "    return features\n",
    "gender_features2('Samantha')\n",
    "\n",
    "def gender_features3(word):\n",
    "    features = {}\n",
    "    word = word.lower()\n",
    "    features['last'] = word[-1]\n",
    "    features['first'] = word[:1]\n",
    "#   features['second'] = word[1:2] # get the 'h' in Charlie?\n",
    "    return features\n",
    "gender_features2('Samantha')           "
   ]
  },
  {
   "cell_type": "markdown",
   "metadata": {},
   "source": [
    "** We wrote the code so that we can easily pass in the new feature function. Lets see if this improves the results on the development set.**"
   ]
  },
  {
   "cell_type": "code",
   "execution_count": 45,
   "metadata": {
    "collapsed": false
   },
   "outputs": [
    {
     "name": "stdout",
     "output_type": "stream",
     "text": [
      "0.785\n"
     ]
    }
   ],
   "source": [
    "train_set2, dev_set2, test_set2 = create_training_sets(gender_features2, names_data)\n",
    "cl2 = nltk.NaiveBayesClassifier.train(train_set2)\n",
    "print (\"%.3f\" % nltk.classify.accuracy(cl2, dev_set2))"
   ]
  },
  {
   "cell_type": "code",
   "execution_count": 51,
   "metadata": {
    "collapsed": false
   },
   "outputs": [
    {
     "name": "stdout",
     "output_type": "stream",
     "text": [
      "0.789\n"
     ]
    }
   ],
   "source": [
    "train_set3, dev_set3, test_set3 = create_training_sets(gender_features3, names_data)\n",
    "cl3 = nltk.NaiveBayesClassifier.train(train_set3)\n",
    "print (\"%.3f\" % nltk.classify.accuracy(cl3, dev_set3))"
   ]
  },
  {
   "cell_type": "markdown",
   "metadata": {},
   "source": [
    "** Let's hand check some of the harder cases ... oops some are right but some are now wrong. **"
   ]
  },
  {
   "cell_type": "code",
   "execution_count": 48,
   "metadata": {
    "collapsed": false
   },
   "outputs": [
    {
     "name": "stdout",
     "output_type": "stream",
     "text": [
      "Carli: female\n",
      "Carle: female\n",
      "Charles: male\n",
      "Carlie: female\n",
      "Charlie: female\n"
     ]
    }
   ],
   "source": [
    "print (\"Carli: \" + cl2.classify(gender_features2('Carli')))\n",
    "print (\"Carle: \" + cl2.classify(gender_features2('Carle')))\n",
    "print (\"Charles: \" + cl2.classify(gender_features2('Charles')))\n",
    "print (\"Carlie: \" + cl2.classify(gender_features2('Carlie')))\n",
    "print (\"Charlie: \" + cl2.classify(gender_features2('Charlie')))"
   ]
  },
  {
   "cell_type": "markdown",
   "metadata": {},
   "source": [
    "** We can see the influence of some of the new features **"
   ]
  },
  {
   "cell_type": "code",
   "execution_count": 49,
   "metadata": {
    "collapsed": false
   },
   "outputs": [
    {
     "name": "stdout",
     "output_type": "stream",
     "text": [
      "Most Informative Features\n",
      "                    last = 'a'            female : male   =     36.3 : 1.0\n",
      "                    last = 'f'              male : female =     12.9 : 1.0\n",
      "                    last = 'v'              male : female =     10.6 : 1.0\n",
      "                    last = 'd'              male : female =      9.9 : 1.0\n",
      "                    last = 'r'              male : female =      9.0 : 1.0\n",
      "                    last = 'w'              male : female =      8.4 : 1.0\n",
      "                    last = 'o'              male : female =      8.0 : 1.0\n",
      "                    last = 'g'              male : female =      7.4 : 1.0\n",
      "                    last = 'm'              male : female =      7.2 : 1.0\n",
      "                    last = 'i'            female : male   =      5.6 : 1.0\n",
      "                   first = 'w'              male : female =      5.4 : 1.0\n",
      "                  second = 'b'              male : female =      4.3 : 1.0\n",
      "                   first = 'x'              male : female =      3.9 : 1.0\n",
      "                    last = 's'              male : female =      3.6 : 1.0\n",
      "                    last = 'z'              male : female =      3.6 : 1.0\n",
      "                    last = 't'              male : female =      3.4 : 1.0\n",
      "                    last = 'b'              male : female =      3.2 : 1.0\n",
      "                  second = 'k'              male : female =      3.0 : 1.0\n",
      "                   first = 'u'              male : female =      2.8 : 1.0\n",
      "                    last = 'x'              male : female =      2.6 : 1.0\n"
     ]
    }
   ],
   "source": [
    "cl2.show_most_informative_features(20)"
   ]
  },
  {
   "cell_type": "markdown",
   "metadata": {},
   "source": [
    "**Below we use code from the NLTK chapter to print out the correct vs. the guessed answer for the errors, in order to inspect those that were wrong. We use the feature of the training set function that let us get the original names from the training and development set**"
   ]
  },
  {
   "cell_type": "code",
   "execution_count": 53,
   "metadata": {
    "collapsed": false
   },
   "outputs": [],
   "source": [
    "train_set3, dev_set3, test_set3, train_items, dev_items, test_items = create_training_sets(gender_features2, names_data, True)\n",
    "cl3 = nltk.NaiveBayesClassifier.train(train_set3)\n",
    "# This is code from the NLTK chapter\n",
    "errors = []\n",
    "for (name, label) in dev_items:\n",
    "    guess = cl3.classify(gender_features2(name))\n",
    "    if guess != label:\n",
    "        errors.append( (label, guess, name) )"
   ]
  },
  {
   "cell_type": "markdown",
   "metadata": {},
   "source": [
    "** Print out the correct vs. the guessed answer for the errors, in order to inspect those that were wrong. **"
   ]
  },
  {
   "cell_type": "code",
   "execution_count": 54,
   "metadata": {
    "collapsed": false
   },
   "outputs": [
    {
     "name": "stdout",
     "output_type": "stream",
     "text": [
      "correct=female   guess=male     name=Abagael                       \n",
      "correct=female   guess=male     name=Abigael                       \n",
      "correct=female   guess=male     name=Abigail                       \n",
      "correct=female   guess=male     name=Amargo                        \n",
      "correct=female   guess=male     name=Amber                         \n",
      "correct=female   guess=male     name=Anne-Mar                      \n",
      "correct=female   guess=male     name=April                         \n",
      "correct=female   guess=male     name=Ardelis                       \n",
      "correct=female   guess=male     name=Ardith                        \n",
      "correct=female   guess=male     name=Ardys                         \n",
      "correct=female   guess=male     name=Ardyth                        \n",
      "correct=female   guess=male     name=Arlen                         \n",
      "correct=female   guess=male     name=Aryn                          \n",
      "correct=female   guess=male     name=Ashleigh                      \n",
      "correct=female   guess=male     name=Austin                        \n",
      "correct=female   guess=male     name=Avis                          \n",
      "correct=female   guess=male     name=Babs                          \n",
      "correct=female   guess=male     name=Bert                          \n",
      "correct=female   guess=male     name=Beth                          \n",
      "correct=female   guess=male     name=Bird                          \n",
      "correct=female   guess=male     name=Birgit                        \n",
      "correct=female   guess=male     name=Blair                         \n",
      "correct=female   guess=male     name=Bo                            \n",
      "correct=female   guess=male     name=Brandais                      \n",
      "correct=female   guess=male     name=Brenn                         \n",
      "correct=female   guess=male     name=Brett                         \n",
      "correct=female   guess=male     name=Bridgett                      \n",
      "correct=female   guess=male     name=Brigid                        \n",
      "correct=female   guess=male     name=Britaney                      \n",
      "correct=female   guess=male     name=Brynn                         \n",
      "correct=female   guess=male     name=Cameo                         \n",
      "correct=female   guess=male     name=Cass                          \n",
      "correct=female   guess=male     name=Charin                        \n",
      "correct=female   guess=male     name=Charlean                      \n",
      "correct=female   guess=male     name=Charmain                      \n",
      "correct=female   guess=male     name=Charmion                      \n",
      "correct=female   guess=male     name=Charo                         \n",
      "correct=female   guess=male     name=Christean                     \n",
      "correct=female   guess=male     name=Clair                         \n",
      "correct=female   guess=male     name=Clo                           \n",
      "correct=female   guess=male     name=Consuelo                      \n",
      "correct=female   guess=male     name=Cristen                       \n",
      "correct=female   guess=male     name=Darb                          \n",
      "correct=female   guess=male     name=Delores                       \n",
      "correct=female   guess=male     name=Demeter                       \n",
      "correct=female   guess=male     name=Demetris                      \n",
      "correct=female   guess=male     name=Denys                         \n",
      "correct=female   guess=male     name=Dolores                       \n",
      "correct=female   guess=male     name=Doris                         \n",
      "correct=female   guess=male     name=Doro                          \n",
      "correct=female   guess=male     name=Dot                           \n",
      "correct=female   guess=male     name=Enid                          \n",
      "correct=female   guess=male     name=Erinn                         \n",
      "correct=female   guess=male     name=Eryn                          \n",
      "correct=female   guess=male     name=Fallon                        \n",
      "correct=female   guess=male     name=Farand                        \n",
      "correct=female   guess=male     name=Farrah                        \n",
      "correct=female   guess=male     name=Faun                          \n",
      "correct=female   guess=male     name=Fiann                         \n",
      "correct=female   guess=male     name=Flo                           \n",
      "correct=female   guess=male     name=Frank                         \n",
      "correct=female   guess=male     name=Gaby                          \n",
      "correct=female   guess=male     name=Gail                          \n",
      "correct=female   guess=male     name=Gates                         \n",
      "correct=female   guess=male     name=Gayleen                       \n",
      "correct=female   guess=male     name=Gillan                        \n",
      "correct=female   guess=male     name=Ginnifer                      \n",
      "correct=female   guess=male     name=Glad                          \n",
      "correct=female   guess=male     name=Gladis                        \n",
      "correct=female   guess=male     name=Glen                          \n",
      "correct=female   guess=male     name=Glennis                       \n",
      "correct=female   guess=male     name=Glynis                        \n",
      "correct=female   guess=male     name=Grier                         \n",
      "correct=female   guess=male     name=Guendolen                     \n",
      "correct=female   guess=male     name=Gus                           \n",
      "correct=female   guess=male     name=Gwen                          \n",
      "correct=female   guess=male     name=Gwendolyn                     \n",
      "correct=female   guess=male     name=Gwenny                        \n",
      "correct=female   guess=male     name=Haley                         \n",
      "correct=female   guess=male     name=Hannah                        \n",
      "correct=female   guess=male     name=Hannis                        \n",
      "correct=female   guess=male     name=Happy                         \n",
      "correct=female   guess=male     name=Harriet                       \n",
      "correct=female   guess=male     name=Havivah                       \n",
      "correct=female   guess=male     name=Hazel                         \n",
      "correct=female   guess=male     name=Heath                         \n",
      "correct=female   guess=male     name=Hedvig                        \n",
      "correct=female   guess=male     name=Helyn                         \n",
      "correct=female   guess=male     name=Hesther                       \n",
      "correct=female   guess=male     name=Hetty                         \n",
      "correct=female   guess=male     name=Hildegaard                    \n",
      "correct=female   guess=male     name=Hilliary                      \n",
      "correct=female   guess=male     name=Hyacinth                      \n",
      "correct=female   guess=male     name=Ibby                          \n",
      "correct=female   guess=male     name=Ingeborg                      \n",
      "correct=female   guess=male     name=Inger                         \n",
      "correct=female   guess=male     name=Ingrid                        \n",
      "correct=female   guess=male     name=Isabeau                       \n",
      "correct=female   guess=male     name=Janifer                       \n",
      "correct=female   guess=male     name=Jenifer                       \n",
      "correct=female   guess=male     name=Jeniffer                      \n",
      "correct=female   guess=male     name=Joannes                       \n",
      "correct=female   guess=male     name=Juliann                       \n",
      "correct=female   guess=male     name=Juliet                        \n",
      "correct=female   guess=male     name=Kameko                        \n",
      "correct=female   guess=male     name=Kass                          \n",
      "correct=female   guess=male     name=Lamb                          \n",
      "correct=female   guess=male     name=Leland                        \n",
      "correct=female   guess=male     name=Lilias                        \n",
      "correct=female   guess=male     name=Linnet                        \n",
      "correct=female   guess=male     name=Lois                          \n",
      "correct=female   guess=male     name=Madalyn                       \n",
      "correct=female   guess=male     name=Madelyn                       \n",
      "correct=female   guess=male     name=Madlen                        \n",
      "correct=female   guess=male     name=Margalit                      \n",
      "correct=female   guess=male     name=Margeaux                      \n",
      "correct=female   guess=male     name=Mariam                        \n",
      "correct=female   guess=male     name=Marian                        \n",
      "correct=female   guess=male     name=Mariann                       \n",
      "correct=female   guess=male     name=Mariellen                     \n",
      "correct=female   guess=male     name=Marilin                       \n",
      "correct=female   guess=male     name=Marillin                      \n",
      "correct=female   guess=male     name=Marin                         \n",
      "correct=female   guess=male     name=Marj                          \n",
      "correct=female   guess=male     name=Marleen                       \n",
      "correct=female   guess=male     name=Marlyn                        \n",
      "correct=female   guess=male     name=Maryangelyn                   \n",
      "correct=female   guess=male     name=Maryann                       \n",
      "correct=female   guess=male     name=Meris                         \n",
      "correct=female   guess=male     name=Miriam                        \n",
      "correct=female   guess=male     name=Morgan                        \n",
      "correct=female   guess=male     name=Nadean                        \n",
      "correct=female   guess=male     name=Nat                           \n",
      "correct=female   guess=male     name=Noelyn                        \n",
      "correct=female   guess=male     name=Norean                        \n",
      "correct=female   guess=male     name=Oprah                         \n",
      "correct=female   guess=male     name=Orel                          \n",
      "correct=female   guess=male     name=Pansy                         \n",
      "correct=female   guess=male     name=Patsy                         \n",
      "correct=female   guess=male     name=Peg                           \n",
      "correct=female   guess=male     name=Phylis                        \n",
      "correct=female   guess=male     name=Pier                          \n",
      "correct=female   guess=male     name=Poppy                         \n",
      "correct=female   guess=male     name=Pru                           \n",
      "correct=female   guess=male     name=Rebekah                       \n",
      "correct=female   guess=male     name=Robbin                        \n",
      "correct=female   guess=male     name=Robbyn                        \n",
      "correct=female   guess=male     name=Rosaleen                      \n",
      "correct=female   guess=male     name=Rosalind                      \n",
      "correct=female   guess=male     name=Rosalyn                       \n",
      "correct=female   guess=male     name=Rosalynd                      \n",
      "correct=female   guess=male     name=Sam                           \n",
      "correct=female   guess=male     name=Saraann                       \n",
      "correct=female   guess=male     name=Shandy                        \n",
      "correct=female   guess=male     name=Sharl                         \n",
      "correct=female   guess=male     name=Sharron                       \n",
      "correct=female   guess=male     name=Sharyl                        \n",
      "correct=female   guess=male     name=Shaylah                       \n",
      "correct=female   guess=male     name=Sheelagh                      \n",
      "correct=female   guess=male     name=Sheelah                       \n",
      "correct=female   guess=male     name=Shel                          \n",
      "correct=female   guess=male     name=Sherry                        \n",
      "correct=female   guess=male     name=Sheryl                        \n",
      "correct=female   guess=male     name=Shirah                        \n",
      "correct=female   guess=male     name=Sigrid                        \n",
      "correct=female   guess=male     name=Sinead                        \n",
      "correct=female   guess=male     name=Sioux                         \n",
      "correct=female   guess=male     name=Stacy                         \n",
      "correct=female   guess=male     name=Storey                        \n",
      "correct=female   guess=male     name=Suellen                       \n",
      "correct=female   guess=male     name=Sukey                         \n",
      "correct=female   guess=male     name=Susann                        \n",
      "correct=female   guess=male     name=Suzan                         \n",
      "correct=female   guess=male     name=Taffy                         \n",
      "correct=female   guess=male     name=Tarah                         \n",
      "correct=female   guess=male     name=Tarrah                        \n",
      "correct=female   guess=male     name=Theo                          \n",
      "correct=female   guess=male     name=Thomasin                      \n",
      "correct=female   guess=male     name=Tim                           \n",
      "correct=female   guess=male     name=Tommy                         \n",
      "correct=female   guess=male     name=Torey                         \n",
      "correct=female   guess=male     name=Tracy                         \n",
      "correct=female   guess=male     name=Trixy                         \n",
      "correct=female   guess=male     name=Trudey                        \n",
      "correct=female   guess=male     name=Tuesday                       \n",
      "correct=female   guess=male     name=Veradis                       \n",
      "correct=female   guess=male     name=Wallis                        \n",
      "correct=female   guess=male     name=Wandis                        \n",
      "correct=female   guess=male     name=Wendeline                     \n",
      "correct=female   guess=male     name=Wenonah                       \n",
      "correct=female   guess=male     name=Whitney                       \n",
      "correct=female   guess=male     name=Wileen                        \n",
      "correct=female   guess=male     name=Willette                      \n",
      "correct=female   guess=male     name=Willie                        \n",
      "correct=female   guess=male     name=Willow                        \n",
      "correct=female   guess=male     name=Wilone                        \n",
      "correct=female   guess=male     name=Winifred                      \n",
      "correct=female   guess=male     name=Winnie                        \n",
      "correct=female   guess=male     name=Winny                         \n",
      "correct=female   guess=male     name=Winonah                       \n",
      "correct=female   guess=male     name=Wynne                         \n",
      "correct=female   guess=male     name=Wynnie                        \n",
      "correct=female   guess=male     name=Wynny                         \n",
      "correct=female   guess=male     name=Yehudit                       \n",
      "correct=female   guess=male     name=Zarah                         \n",
      "correct=male     guess=female   name=Adrien                        \n",
      "correct=male     guess=female   name=Alain                         \n",
      "correct=male     guess=female   name=Allen                         \n",
      "correct=male     guess=female   name=Allie                         \n",
      "correct=male     guess=female   name=Allin                         \n",
      "correct=male     guess=female   name=Alphonse                      \n",
      "correct=male     guess=female   name=Alvin                         \n",
      "correct=male     guess=female   name=Alwin                         \n",
      "correct=male     guess=female   name=Ambrosi                       \n",
      "correct=male     guess=female   name=Amory                         \n",
      "correct=male     guess=female   name=Andrea                        \n",
      "correct=male     guess=female   name=Andri                         \n",
      "correct=male     guess=female   name=Anson                         \n",
      "correct=male     guess=female   name=Antin                         \n",
      "correct=male     guess=female   name=Ari                           \n",
      "correct=male     guess=female   name=Ariel                         \n",
      "correct=male     guess=female   name=Arnie                         \n",
      "correct=male     guess=female   name=Arvy                          \n",
      "correct=male     guess=female   name=Averil                        \n",
      "correct=male     guess=female   name=Averill                       \n",
      "correct=male     guess=female   name=Avery                         \n",
      "correct=male     guess=female   name=Bailey                        \n",
      "correct=male     guess=female   name=Bailie                        \n",
      "correct=male     guess=female   name=Barnabe                       \n",
      "correct=male     guess=female   name=Barnaby                       \n",
      "correct=male     guess=female   name=Barney                        \n",
      "correct=male     guess=female   name=Barrie                        \n",
      "correct=male     guess=female   name=Barthel                       \n",
      "correct=male     guess=female   name=Bartolomei                    \n",
      "correct=male     guess=female   name=Barty                         \n",
      "correct=male     guess=female   name=Basil                         \n",
      "correct=male     guess=female   name=Bay                           \n",
      "correct=male     guess=female   name=Beale                         \n",
      "correct=male     guess=female   name=Bentley                       \n",
      "correct=male     guess=female   name=Berkie                        \n",
      "correct=male     guess=female   name=Berkley                       \n",
      "correct=male     guess=female   name=Bernie                        \n",
      "correct=male     guess=female   name=Bertie                        \n",
      "correct=male     guess=female   name=Bill                          \n",
      "correct=male     guess=female   name=Binky                         \n",
      "correct=male     guess=female   name=Blake                         \n",
      "correct=male     guess=female   name=Boniface                      \n",
      "correct=male     guess=female   name=Cal                           \n",
      "correct=male     guess=female   name=Caldwell                      \n",
      "correct=male     guess=female   name=Cameron                       \n",
      "correct=male     guess=female   name=Cammy                         \n",
      "correct=male     guess=female   name=Cary                          \n",
      "correct=male     guess=female   name=Che                           \n",
      "correct=male     guess=female   name=Chrissy                       \n",
      "correct=male     guess=female   name=Chrisy                        \n",
      "correct=male     guess=female   name=Churchill                     \n",
      "correct=male     guess=female   name=Clare                         \n",
      "correct=male     guess=female   name=Claus                         \n",
      "correct=male     guess=female   name=Clayborn                      \n",
      "correct=male     guess=female   name=Clemente                      \n",
      "correct=male     guess=female   name=Clemmie                       \n",
      "correct=male     guess=female   name=Cletus                        \n",
      "correct=male     guess=female   name=Clifton                       \n",
      "correct=male     guess=female   name=Clint                         \n",
      "correct=male     guess=female   name=Clinten                       \n",
      "correct=male     guess=female   name=Clive                         \n",
      "correct=male     guess=female   name=Clyde                         \n",
      "correct=male     guess=female   name=Cole                          \n",
      "correct=male     guess=female   name=Colin                         \n",
      "correct=male     guess=female   name=Collin                        \n",
      "correct=male     guess=female   name=Connolly                      \n",
      "correct=male     guess=female   name=Constantine                   \n",
      "correct=male     guess=female   name=Curtice                       \n",
      "correct=male     guess=female   name=Cyril                         \n",
      "correct=male     guess=female   name=Cyrill                        \n",
      "correct=male     guess=female   name=Dabney                        \n",
      "correct=male     guess=female   name=Daffy                         \n",
      "correct=male     guess=female   name=Damien                        \n",
      "correct=male     guess=female   name=Dana                          \n",
      "correct=male     guess=female   name=Dannie                        \n",
      "correct=male     guess=female   name=Dante                         \n",
      "correct=male     guess=female   name=Darien                        \n",
      "correct=male     guess=female   name=Darrel                        \n",
      "correct=male     guess=female   name=Darrell                       \n",
      "correct=male     guess=female   name=Daryl                         \n",
      "correct=male     guess=female   name=Davide                        \n",
      "correct=male     guess=female   name=Davie                         \n",
      "correct=male     guess=female   name=Davy                          \n",
      "correct=male     guess=female   name=Dean                          \n",
      "correct=male     guess=female   name=Del                           \n",
      "correct=male     guess=female   name=Dennie                        \n",
      "correct=male     guess=female   name=Derron                        \n",
      "correct=male     guess=female   name=Devon                         \n",
      "correct=male     guess=female   name=Dewey                         \n",
      "correct=male     guess=female   name=Dickey                        \n",
      "correct=male     guess=female   name=Dimitri                       \n",
      "correct=male     guess=female   name=Dimitrou                      \n",
      "correct=male     guess=female   name=Dion                          \n",
      "correct=male     guess=female   name=Dmitri                        \n",
      "correct=male     guess=female   name=Donn                          \n",
      "correct=male     guess=female   name=Donnie                        \n",
      "correct=male     guess=female   name=Doyle                         \n",
      "correct=male     guess=female   name=Drake                         \n",
      "correct=male     guess=female   name=Duane                         \n",
      "correct=male     guess=female   name=Duffy                         \n",
      "correct=male     guess=female   name=Durante                       \n",
      "correct=male     guess=female   name=Earl                          \n",
      "correct=male     guess=female   name=Easton                        \n",
      "correct=male     guess=female   name=Eliot                         \n",
      "correct=male     guess=female   name=Eliott                        \n",
      "correct=male     guess=female   name=Elmore                        \n",
      "correct=male     guess=female   name=Elroy                         \n",
      "correct=male     guess=female   name=Elvis                         \n",
      "correct=male     guess=female   name=Elwin                         \n",
      "correct=male     guess=female   name=Elwyn                         \n",
      "correct=male     guess=female   name=Emerson                       \n",
      "correct=male     guess=female   name=Emery                         \n",
      "correct=male     guess=female   name=Emil                          \n",
      "correct=male     guess=female   name=Emile                         \n",
      "correct=male     guess=female   name=Emmery                        \n",
      "correct=male     guess=female   name=Emmett                        \n",
      "correct=male     guess=female   name=Emmit                         \n",
      "correct=male     guess=female   name=Emmott                        \n",
      "correct=male     guess=female   name=Engelbart                     \n",
      "correct=male     guess=female   name=Ernie                         \n",
      "correct=male     guess=female   name=Eustace                       \n",
      "correct=male     guess=female   name=Evan                          \n",
      "correct=male     guess=female   name=Evelyn                        \n",
      "correct=male     guess=female   name=Farley                        \n",
      "correct=male     guess=female   name=Fazeel                        \n",
      "correct=male     guess=female   name=Felice                        \n",
      "correct=male     guess=female   name=Ferdie                        \n",
      "correct=male     guess=female   name=Finley                        \n",
      "correct=male     guess=female   name=Fletch                        \n",
      "correct=male     guess=female   name=Frankie                       \n",
      "correct=male     guess=female   name=Gabriele                      \n",
      "correct=male     guess=female   name=Gene                          \n",
      "correct=male     guess=female   name=Geri                          \n",
      "correct=male     guess=female   name=Gerome                        \n",
      "correct=male     guess=female   name=Gil                           \n",
      "correct=male     guess=female   name=Gill                          \n",
      "correct=male     guess=female   name=Giorgi                        \n",
      "correct=male     guess=female   name=Giovanni                      \n",
      "correct=male     guess=female   name=Godfree                       \n",
      "correct=male     guess=female   name=Goose                         \n",
      "correct=male     guess=female   name=Graeme                        \n",
      "correct=male     guess=female   name=Grove                         \n",
      "correct=male     guess=female   name=Guillaume                     \n",
      "correct=male     guess=female   name=Harvie                        \n",
      "correct=male     guess=female   name=Herve                         \n",
      "correct=male     guess=female   name=Hewe                          \n",
      "correct=male     guess=female   name=Hewie                         \n",
      "correct=male     guess=female   name=Iggie                         \n",
      "correct=male     guess=female   name=Iggy                          \n",
      "correct=male     guess=female   name=Ignace                        \n",
      "correct=male     guess=female   name=Isadore                       \n",
      "correct=male     guess=female   name=Ishmael                       \n",
      "correct=male     guess=female   name=Jae                           \n",
      "correct=male     guess=female   name=Jaime                         \n",
      "correct=male     guess=female   name=Jamey                         \n",
      "correct=male     guess=female   name=Jan                           \n",
      "correct=male     guess=female   name=Jason                         \n",
      "correct=male     guess=female   name=Jean-Christophe               \n",
      "correct=male     guess=female   name=Jedediah                      \n",
      "correct=male     guess=female   name=Jefferey                      \n",
      "correct=male     guess=female   name=Jefferson                     \n",
      "correct=male     guess=female   name=Jeffry                        \n",
      "correct=male     guess=female   name=Jefry                         \n",
      "correct=male     guess=female   name=Jere                          \n",
      "correct=male     guess=female   name=Jereme                        \n",
      "correct=male     guess=female   name=Jermaine                      \n",
      "correct=male     guess=female   name=Jerri                         \n",
      "correct=male     guess=female   name=Jerrie                        \n",
      "correct=male     guess=female   name=Jesse                         \n",
      "correct=male     guess=female   name=Jessey                        \n",
      "correct=male     guess=female   name=Jeth                          \n",
      "correct=male     guess=female   name=Jimmie                        \n",
      "correct=male     guess=female   name=Jodi                          \n",
      "correct=male     guess=female   name=Jody                          \n",
      "correct=male     guess=female   name=Joel                          \n",
      "correct=male     guess=female   name=Johnathan                     \n",
      "correct=male     guess=female   name=Jonathan                      \n",
      "correct=male     guess=female   name=Jordon                        \n",
      "correct=male     guess=female   name=Josh                          \n",
      "correct=male     guess=female   name=Joshua                        \n",
      "correct=male     guess=female   name=Joshuah                       \n",
      "correct=male     guess=female   name=Josiah                        \n",
      "correct=male     guess=female   name=Judy                          \n",
      "correct=male     guess=female   name=Jule                          \n",
      "correct=male     guess=female   name=Kaleb                         \n",
      "correct=male     guess=female   name=Kalil                         \n",
      "correct=male     guess=female   name=Kane                          \n",
      "correct=male     guess=female   name=Karel                         \n",
      "correct=male     guess=female   name=Keefe                         \n",
      "correct=male     guess=female   name=Keenan                        \n",
      "correct=male     guess=female   name=Keith                         \n",
      "correct=male     guess=female   name=Kelley                        \n",
      "correct=male     guess=female   name=Kendal                        \n",
      "correct=male     guess=female   name=Kenny                         \n",
      "correct=male     guess=female   name=Kerry                         \n",
      "correct=male     guess=female   name=Kevan                         \n",
      "correct=male     guess=female   name=Kevin                         \n",
      "correct=male     guess=female   name=Kin                           \n",
      "correct=male     guess=female   name=Kingsley                      \n",
      "correct=male     guess=female   name=Kingsly                       \n",
      "correct=male     guess=female   name=Kingston                      \n",
      "correct=male     guess=female   name=Kirby                         \n",
      "correct=male     guess=female   name=Knox                          \n",
      "correct=male     guess=female   name=Krishna                       \n",
      "correct=male     guess=female   name=Lanny                         \n",
      "correct=male     guess=female   name=Larry                         \n",
      "correct=male     guess=female   name=Laurance                      \n",
      "correct=male     guess=female   name=Lauren                        \n",
      "correct=male     guess=female   name=Laurie                        \n",
      "correct=male     guess=female   name=Lawton                        \n",
      "correct=male     guess=female   name=Lee                           \n",
      "correct=male     guess=female   name=Lesley                        \n",
      "correct=male     guess=female   name=Leslie                        \n",
      "correct=male     guess=female   name=Levon                         \n",
      "correct=male     guess=female   name=Lex                           \n",
      "correct=male     guess=female   name=Lindsay                       \n",
      "correct=male     guess=female   name=Llewellyn                     \n",
      "correct=male     guess=female   name=Logan                         \n",
      "correct=male     guess=female   name=Lon                           \n",
      "correct=male     guess=female   name=Lorrie                        \n",
      "correct=male     guess=female   name=Lou                           \n",
      "correct=male     guess=female   name=Lovell                        \n",
      "correct=male     guess=female   name=Lyn                           \n",
      "correct=male     guess=female   name=Mackenzie                     \n",
      "correct=male     guess=female   name=Maddie                        \n",
      "correct=male     guess=female   name=Marchall                      \n",
      "correct=male     guess=female   name=Marietta                      \n",
      "correct=male     guess=female   name=Marlowe                       \n",
      "correct=male     guess=female   name=Marshall                      \n",
      "correct=male     guess=female   name=Melvin                        \n",
      "correct=male     guess=female   name=Melvyn                        \n",
      "correct=male     guess=female   name=Merill                        \n",
      "correct=male     guess=female   name=Merlin                        \n",
      "correct=male     guess=female   name=Mervin                        \n",
      "correct=male     guess=female   name=Merwin                        \n",
      "correct=male     guess=female   name=Meryl                         \n",
      "correct=male     guess=female   name=Micah                         \n",
      "correct=male     guess=female   name=Michael                       \n",
      "correct=male     guess=female   name=Micheil                       \n",
      "correct=male     guess=female   name=Michel                        \n",
      "correct=male     guess=female   name=Mickey                        \n",
      "correct=male     guess=female   name=Micky                         \n",
      "correct=male     guess=female   name=Miguel                        \n",
      "correct=male     guess=female   name=Mikael                        \n",
      "correct=male     guess=female   name=Mikhail                       \n",
      "correct=male     guess=female   name=Milton                        \n",
      "correct=male     guess=female   name=Mischa                        \n",
      "correct=male     guess=female   name=Moe                           \n",
      "correct=male     guess=female   name=Moise                         \n",
      "correct=male     guess=female   name=Monroe                        \n",
      "correct=male     guess=female   name=Monte                         \n",
      "correct=male     guess=female   name=Monty                         \n",
      "correct=male     guess=female   name=Morlee                        \n",
      "correct=male     guess=female   name=Morly                         \n",
      "correct=male     guess=female   name=Morrie                        \n",
      "correct=male     guess=female   name=Mortie                        \n",
      "correct=male     guess=female   name=Mose                          \n",
      "correct=male     guess=female   name=Mugsy                         \n",
      "correct=male     guess=female   name=Murphy                        \n",
      "correct=male     guess=female   name=Natale                        \n",
      "correct=male     guess=female   name=Nathaniel                     \n",
      "correct=male     guess=female   name=Neal                          \n",
      "correct=male     guess=female   name=Neale                         \n",
      "correct=male     guess=female   name=Neall                         \n",
      "correct=male     guess=female   name=Nealy                         \n",
      "correct=male     guess=female   name=Neddie                        \n",
      "correct=male     guess=female   name=Neel                          \n",
      "correct=male     guess=female   name=Neil                          \n",
      "correct=male     guess=female   name=Nicky                         \n",
      "correct=male     guess=female   name=Nikki                         \n",
      "correct=male     guess=female   name=Nilson                        \n",
      "correct=male     guess=female   name=Niven                         \n",
      "correct=male     guess=female   name=Noah                          \n",
      "correct=male     guess=female   name=Noble                         \n",
      "correct=male     guess=female   name=Odie                          \n",
      "correct=male     guess=female   name=Odin                          \n",
      "correct=male     guess=female   name=Ole                           \n",
      "correct=male     guess=female   name=Olle                          \n",
      "correct=male     guess=female   name=Ossie                         \n",
      "correct=male     guess=female   name=Ozzie                         \n",
      "correct=male     guess=female   name=Page                          \n",
      "correct=male     guess=female   name=Partha                        \n",
      "correct=male     guess=female   name=Pascale                       \n",
      "correct=male     guess=female   name=Penny                         \n",
      "correct=male     guess=female   name=Percy                         \n",
      "correct=male     guess=female   name=Pryce                         \n",
      "correct=male     guess=female   name=Quill                         \n",
      "correct=male     guess=female   name=Radcliffe                     \n",
      "correct=male     guess=female   name=Rafe                          \n",
      "correct=male     guess=female   name=Rahul                         \n",
      "correct=male     guess=female   name=Randell                       \n",
      "correct=male     guess=female   name=Randi                         \n",
      "correct=male     guess=female   name=Ransell                       \n",
      "correct=male     guess=female   name=Raoul                         \n",
      "correct=male     guess=female   name=Raul                          \n",
      "correct=male     guess=female   name=Rawley                        \n",
      "correct=male     guess=female   name=Reece                         \n",
      "correct=male     guess=female   name=Reese                         \n",
      "correct=male     guess=female   name=Reza                          \n",
      "correct=male     guess=female   name=Rich                          \n",
      "correct=male     guess=female   name=Richy                         \n",
      "correct=male     guess=female   name=Ricky                         \n",
      "correct=male     guess=female   name=Rikki                         \n",
      "correct=male     guess=female   name=Ritch                         \n",
      "correct=male     guess=female   name=Ritchie                       \n",
      "correct=male     guess=female   name=Robbie                        \n",
      "correct=male     guess=female   name=Ronny                         \n",
      "correct=male     guess=female   name=Roscoe                        \n",
      "correct=male     guess=female   name=Roy                           \n",
      "correct=male     guess=female   name=Royce                         \n",
      "correct=male     guess=female   name=Ruddie                        \n",
      "correct=male     guess=female   name=Rudie                         \n",
      "correct=male     guess=female   name=Sal                           \n",
      "correct=male     guess=female   name=Sammie                        \n",
      "correct=male     guess=female   name=Samuel                        \n",
      "correct=male     guess=female   name=Sandy                         \n",
      "correct=male     guess=female   name=Saul                          \n",
      "correct=male     guess=female   name=Saundra                       \n",
      "correct=male     guess=female   name=Sawyere                       \n",
      "correct=male     guess=female   name=Say                           \n",
      "correct=male     guess=female   name=Selby                         \n",
      "correct=male     guess=female   name=Shane                         \n",
      "correct=male     guess=female   name=Sheffie                       \n",
      "correct=male     guess=female   name=Sinclare                      \n",
      "correct=male     guess=female   name=Slade                         \n",
      "correct=male     guess=female   name=Sol                           \n",
      "correct=male     guess=female   name=Sonny                         \n",
      "correct=male     guess=female   name=Sydney                        \n",
      "correct=male     guess=female   name=Tannie                        \n",
      "correct=male     guess=female   name=Tarrance                      \n",
      "correct=male     guess=female   name=Teddie                        \n",
      "correct=male     guess=female   name=Thane                         \n",
      "correct=male     guess=female   name=Thayne                        \n",
      "correct=male     guess=female   name=Thorndike                     \n",
      "correct=male     guess=female   name=Timothee                      \n",
      "correct=male     guess=female   name=Tobe                          \n",
      "correct=male     guess=female   name=Toddie                        \n",
      "correct=male     guess=female   name=Tome                          \n",
      "correct=male     guess=female   name=Tonnie                        \n",
      "correct=male     guess=female   name=Torrance                      \n",
      "correct=male     guess=female   name=Torrence                      \n",
      "correct=male     guess=female   name=Tracie                        \n",
      "correct=male     guess=female   name=Tre                           \n",
      "correct=male     guess=female   name=Tremaine                      \n",
      "correct=male     guess=female   name=Tremayne                      \n",
      "correct=male     guess=female   name=Tuckie                        \n",
      "correct=male     guess=female   name=Vachel                        \n",
      "correct=male     guess=female   name=Val                           \n",
      "correct=male     guess=female   name=Vale                          \n",
      "correct=male     guess=female   name=Valentine                     \n",
      "correct=male     guess=female   name=Vasili                        \n",
      "correct=male     guess=female   name=Vassily                       \n",
      "correct=male     guess=female   name=Verge                         \n",
      "correct=male     guess=female   name=Vergil                        \n",
      "correct=male     guess=female   name=Vernen                        \n",
      "correct=male     guess=female   name=Vijay                         \n",
      "correct=male     guess=female   name=Vinny                         \n",
      "correct=male     guess=female   name=Virge                         \n",
      "correct=male     guess=female   name=Voltaire                      \n",
      "correct=male     guess=female   name=Willi                         \n",
      "correct=male     guess=female   name=Yale                          \n",
      "correct=male     guess=female   name=Yankee                        \n",
      "correct=male     guess=female   name=Yuri                          \n",
      "correct=male     guess=female   name=Zacharia                      \n"
     ]
    }
   ],
   "source": [
    "for (tag, guess, name) in sorted(errors): \n",
    "    print ('correct=%-8s guess=%-8s name=%-30s' % (tag, guess, name))"
   ]
  },
  {
   "cell_type": "markdown",
   "metadata": {},
   "source": [
    "** Exercise** Rewrite the feature function above to add some additional features, and then rerun the classifier on the development set to evaluate if it improves or degrades results.  Check the results on the dev items to see where you still make errors and add or remove features.  When you are satisfied with the results, *freeze your algorithm* and ** run it one time only on the test collection ** and report the results with the evaluation function. \n",
    "\n",
    "Ideas for features:\n",
    "* name length\n",
    "* pairs of characters\n",
    "* your idea goes here"
   ]
  },
  {
   "cell_type": "code",
   "execution_count": null,
   "metadata": {
    "collapsed": false
   },
   "outputs": [],
   "source": []
  }
 ],
 "metadata": {
  "kernelspec": {
   "display_name": "Python 3",
   "language": "python",
   "name": "python3"
  },
  "language_info": {
   "codemirror_mode": {
    "name": "ipython",
    "version": 3
   },
   "file_extension": ".py",
   "mimetype": "text/x-python",
   "name": "python",
   "nbconvert_exporter": "python",
   "pygments_lexer": "ipython3",
   "version": "3.5.2"
  }
 },
 "nbformat": 4,
 "nbformat_minor": 0
}
