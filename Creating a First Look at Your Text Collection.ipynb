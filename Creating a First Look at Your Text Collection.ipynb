{
 "cells": [
  {
   "cell_type": "code",
   "execution_count": 2,
   "metadata": {
    "collapsed": true
   },
   "outputs": [],
   "source": [
    "import nltk, re, pprint\n",
    "import nltk\n",
    "import matplotlib\n",
    "import string\n",
    "from nltk import word_tokenize\n",
    "from nltk.corpus import stopwords\n",
    "from nltk.tokenize import regexp_tokenize\n",
    "sent_tokenizer=nltk.data.load('tokenizers/punkt/english.pickle')"
   ]
  },
  {
   "cell_type": "markdown",
   "metadata": {},
   "source": [
    "**First, in the entry form below, load in the file or files.**  First, take a look at your text.  An easy way to get started is to first read it in, and then run it through the sentence tokenizer to divide it up, even if this division is not fully accurate.  You may have to do a bit of work to figure out which will be the \"opening phrase\" that Wolfram Alpha shows.  Below, write the code to read in the text and split it into sentences, and then print out the **opening phrase**."
   ]
  },
  {
   "cell_type": "code",
   "execution_count": 3,
   "metadata": {
    "collapsed": false
   },
   "outputs": [],
   "source": [
    "with open(\"speeches.txt\") as w:\n",
    "    text = w.read()"
   ]
  },
  {
   "cell_type": "code",
   "execution_count": 4,
   "metadata": {
    "collapsed": false
   },
   "outputs": [
    {
     "ename": "UnicodeDecodeError",
     "evalue": "'ascii' codec can't decode byte 0xe2 in position 8: ordinal not in range(128)",
     "output_type": "error",
     "traceback": [
      "\u001b[0;31m---------------------------------------------------------------------------\u001b[0m",
      "\u001b[0;31mUnicodeDecodeError\u001b[0m                        Traceback (most recent call last)",
      "\u001b[0;32m<ipython-input-4-3430f8f47c8b>\u001b[0m in \u001b[0;36m<module>\u001b[0;34m()\u001b[0m\n\u001b[0;32m----> 1\u001b[0;31m \u001b[0msent_text\u001b[0m \u001b[0;34m=\u001b[0m \u001b[0msent_tokenizer\u001b[0m\u001b[0;34m.\u001b[0m\u001b[0mtokenize\u001b[0m\u001b[0;34m(\u001b[0m\u001b[0mtext\u001b[0m\u001b[0;34m)\u001b[0m\u001b[0;34m\u001b[0m\u001b[0m\n\u001b[0m\u001b[1;32m      2\u001b[0m \u001b[0mlen\u001b[0m\u001b[0;34m(\u001b[0m\u001b[0msent_text\u001b[0m\u001b[0;34m)\u001b[0m\u001b[0;34m\u001b[0m\u001b[0m\n\u001b[1;32m      3\u001b[0m \u001b[0;31m# sent_text\u001b[0m\u001b[0;34m\u001b[0m\u001b[0;34m\u001b[0m\u001b[0m\n",
      "\u001b[0;32m/Users/parv/anaconda/lib/python2.7/site-packages/nltk/tokenize/punkt.pyc\u001b[0m in \u001b[0;36mtokenize\u001b[0;34m(self, text, realign_boundaries)\u001b[0m\n\u001b[1;32m   1224\u001b[0m         \u001b[0mGiven\u001b[0m \u001b[0ma\u001b[0m \u001b[0mtext\u001b[0m\u001b[0;34m,\u001b[0m \u001b[0mreturns\u001b[0m \u001b[0ma\u001b[0m \u001b[0mlist\u001b[0m \u001b[0mof\u001b[0m \u001b[0mthe\u001b[0m \u001b[0msentences\u001b[0m \u001b[0;32min\u001b[0m \u001b[0mthat\u001b[0m \u001b[0mtext\u001b[0m\u001b[0;34m.\u001b[0m\u001b[0;34m\u001b[0m\u001b[0m\n\u001b[1;32m   1225\u001b[0m         \"\"\"\n\u001b[0;32m-> 1226\u001b[0;31m         \u001b[0;32mreturn\u001b[0m \u001b[0mlist\u001b[0m\u001b[0;34m(\u001b[0m\u001b[0mself\u001b[0m\u001b[0;34m.\u001b[0m\u001b[0msentences_from_text\u001b[0m\u001b[0;34m(\u001b[0m\u001b[0mtext\u001b[0m\u001b[0;34m,\u001b[0m \u001b[0mrealign_boundaries\u001b[0m\u001b[0;34m)\u001b[0m\u001b[0;34m)\u001b[0m\u001b[0;34m\u001b[0m\u001b[0m\n\u001b[0m\u001b[1;32m   1227\u001b[0m \u001b[0;34m\u001b[0m\u001b[0m\n\u001b[1;32m   1228\u001b[0m     \u001b[0;32mdef\u001b[0m \u001b[0mdebug_decisions\u001b[0m\u001b[0;34m(\u001b[0m\u001b[0mself\u001b[0m\u001b[0;34m,\u001b[0m \u001b[0mtext\u001b[0m\u001b[0;34m)\u001b[0m\u001b[0;34m:\u001b[0m\u001b[0;34m\u001b[0m\u001b[0m\n",
      "\u001b[0;32m/Users/parv/anaconda/lib/python2.7/site-packages/nltk/tokenize/punkt.pyc\u001b[0m in \u001b[0;36msentences_from_text\u001b[0;34m(self, text, realign_boundaries)\u001b[0m\n\u001b[1;32m   1272\u001b[0m         \u001b[0mfollows\u001b[0m \u001b[0mthe\u001b[0m \u001b[0mperiod\u001b[0m\u001b[0;34m.\u001b[0m\u001b[0;34m\u001b[0m\u001b[0m\n\u001b[1;32m   1273\u001b[0m         \"\"\"\n\u001b[0;32m-> 1274\u001b[0;31m         \u001b[0;32mreturn\u001b[0m \u001b[0;34m[\u001b[0m\u001b[0mtext\u001b[0m\u001b[0;34m[\u001b[0m\u001b[0ms\u001b[0m\u001b[0;34m:\u001b[0m\u001b[0me\u001b[0m\u001b[0;34m]\u001b[0m \u001b[0;32mfor\u001b[0m \u001b[0ms\u001b[0m\u001b[0;34m,\u001b[0m \u001b[0me\u001b[0m \u001b[0;32min\u001b[0m \u001b[0mself\u001b[0m\u001b[0;34m.\u001b[0m\u001b[0mspan_tokenize\u001b[0m\u001b[0;34m(\u001b[0m\u001b[0mtext\u001b[0m\u001b[0;34m,\u001b[0m \u001b[0mrealign_boundaries\u001b[0m\u001b[0;34m)\u001b[0m\u001b[0;34m]\u001b[0m\u001b[0;34m\u001b[0m\u001b[0m\n\u001b[0m\u001b[1;32m   1275\u001b[0m \u001b[0;34m\u001b[0m\u001b[0m\n\u001b[1;32m   1276\u001b[0m     \u001b[0;32mdef\u001b[0m \u001b[0m_slices_from_text\u001b[0m\u001b[0;34m(\u001b[0m\u001b[0mself\u001b[0m\u001b[0;34m,\u001b[0m \u001b[0mtext\u001b[0m\u001b[0;34m)\u001b[0m\u001b[0;34m:\u001b[0m\u001b[0;34m\u001b[0m\u001b[0m\n",
      "\u001b[0;32m/Users/parv/anaconda/lib/python2.7/site-packages/nltk/tokenize/punkt.pyc\u001b[0m in \u001b[0;36mspan_tokenize\u001b[0;34m(self, text, realign_boundaries)\u001b[0m\n\u001b[1;32m   1263\u001b[0m         \u001b[0;32mif\u001b[0m \u001b[0mrealign_boundaries\u001b[0m\u001b[0;34m:\u001b[0m\u001b[0;34m\u001b[0m\u001b[0m\n\u001b[1;32m   1264\u001b[0m             \u001b[0mslices\u001b[0m \u001b[0;34m=\u001b[0m \u001b[0mself\u001b[0m\u001b[0;34m.\u001b[0m\u001b[0m_realign_boundaries\u001b[0m\u001b[0;34m(\u001b[0m\u001b[0mtext\u001b[0m\u001b[0;34m,\u001b[0m \u001b[0mslices\u001b[0m\u001b[0;34m)\u001b[0m\u001b[0;34m\u001b[0m\u001b[0m\n\u001b[0;32m-> 1265\u001b[0;31m         \u001b[0;32mreturn\u001b[0m \u001b[0;34m[\u001b[0m\u001b[0;34m(\u001b[0m\u001b[0msl\u001b[0m\u001b[0;34m.\u001b[0m\u001b[0mstart\u001b[0m\u001b[0;34m,\u001b[0m \u001b[0msl\u001b[0m\u001b[0;34m.\u001b[0m\u001b[0mstop\u001b[0m\u001b[0;34m)\u001b[0m \u001b[0;32mfor\u001b[0m \u001b[0msl\u001b[0m \u001b[0;32min\u001b[0m \u001b[0mslices\u001b[0m\u001b[0;34m]\u001b[0m\u001b[0;34m\u001b[0m\u001b[0m\n\u001b[0m\u001b[1;32m   1266\u001b[0m \u001b[0;34m\u001b[0m\u001b[0m\n\u001b[1;32m   1267\u001b[0m     \u001b[0;32mdef\u001b[0m \u001b[0msentences_from_text\u001b[0m\u001b[0;34m(\u001b[0m\u001b[0mself\u001b[0m\u001b[0;34m,\u001b[0m \u001b[0mtext\u001b[0m\u001b[0;34m,\u001b[0m \u001b[0mrealign_boundaries\u001b[0m\u001b[0;34m=\u001b[0m\u001b[0mTrue\u001b[0m\u001b[0;34m)\u001b[0m\u001b[0;34m:\u001b[0m\u001b[0;34m\u001b[0m\u001b[0m\n",
      "\u001b[0;32m/Users/parv/anaconda/lib/python2.7/site-packages/nltk/tokenize/punkt.pyc\u001b[0m in \u001b[0;36m_realign_boundaries\u001b[0;34m(self, text, slices)\u001b[0m\n\u001b[1;32m   1302\u001b[0m         \"\"\"\n\u001b[1;32m   1303\u001b[0m         \u001b[0mrealign\u001b[0m \u001b[0;34m=\u001b[0m \u001b[0;36m0\u001b[0m\u001b[0;34m\u001b[0m\u001b[0m\n\u001b[0;32m-> 1304\u001b[0;31m         \u001b[0;32mfor\u001b[0m \u001b[0msl1\u001b[0m\u001b[0;34m,\u001b[0m \u001b[0msl2\u001b[0m \u001b[0;32min\u001b[0m \u001b[0m_pair_iter\u001b[0m\u001b[0;34m(\u001b[0m\u001b[0mslices\u001b[0m\u001b[0;34m)\u001b[0m\u001b[0;34m:\u001b[0m\u001b[0;34m\u001b[0m\u001b[0m\n\u001b[0m\u001b[1;32m   1305\u001b[0m             \u001b[0msl1\u001b[0m \u001b[0;34m=\u001b[0m \u001b[0mslice\u001b[0m\u001b[0;34m(\u001b[0m\u001b[0msl1\u001b[0m\u001b[0;34m.\u001b[0m\u001b[0mstart\u001b[0m \u001b[0;34m+\u001b[0m \u001b[0mrealign\u001b[0m\u001b[0;34m,\u001b[0m \u001b[0msl1\u001b[0m\u001b[0;34m.\u001b[0m\u001b[0mstop\u001b[0m\u001b[0;34m)\u001b[0m\u001b[0;34m\u001b[0m\u001b[0m\n\u001b[1;32m   1306\u001b[0m             \u001b[0;32mif\u001b[0m \u001b[0;32mnot\u001b[0m \u001b[0msl2\u001b[0m\u001b[0;34m:\u001b[0m\u001b[0;34m\u001b[0m\u001b[0m\n",
      "\u001b[0;32m/Users/parv/anaconda/lib/python2.7/site-packages/nltk/tokenize/punkt.pyc\u001b[0m in \u001b[0;36m_pair_iter\u001b[0;34m(it)\u001b[0m\n\u001b[1;32m    309\u001b[0m     \u001b[0mit\u001b[0m \u001b[0;34m=\u001b[0m \u001b[0miter\u001b[0m\u001b[0;34m(\u001b[0m\u001b[0mit\u001b[0m\u001b[0;34m)\u001b[0m\u001b[0;34m\u001b[0m\u001b[0m\n\u001b[1;32m    310\u001b[0m     \u001b[0mprev\u001b[0m \u001b[0;34m=\u001b[0m \u001b[0mnext\u001b[0m\u001b[0;34m(\u001b[0m\u001b[0mit\u001b[0m\u001b[0;34m)\u001b[0m\u001b[0;34m\u001b[0m\u001b[0m\n\u001b[0;32m--> 311\u001b[0;31m     \u001b[0;32mfor\u001b[0m \u001b[0mel\u001b[0m \u001b[0;32min\u001b[0m \u001b[0mit\u001b[0m\u001b[0;34m:\u001b[0m\u001b[0;34m\u001b[0m\u001b[0m\n\u001b[0m\u001b[1;32m    312\u001b[0m         \u001b[0;32myield\u001b[0m \u001b[0;34m(\u001b[0m\u001b[0mprev\u001b[0m\u001b[0;34m,\u001b[0m \u001b[0mel\u001b[0m\u001b[0;34m)\u001b[0m\u001b[0;34m\u001b[0m\u001b[0m\n\u001b[1;32m    313\u001b[0m         \u001b[0mprev\u001b[0m \u001b[0;34m=\u001b[0m \u001b[0mel\u001b[0m\u001b[0;34m\u001b[0m\u001b[0m\n",
      "\u001b[0;32m/Users/parv/anaconda/lib/python2.7/site-packages/nltk/tokenize/punkt.pyc\u001b[0m in \u001b[0;36m_slices_from_text\u001b[0;34m(self, text)\u001b[0m\n\u001b[1;32m   1278\u001b[0m         \u001b[0;32mfor\u001b[0m \u001b[0mmatch\u001b[0m \u001b[0;32min\u001b[0m \u001b[0mself\u001b[0m\u001b[0;34m.\u001b[0m\u001b[0m_lang_vars\u001b[0m\u001b[0;34m.\u001b[0m\u001b[0mperiod_context_re\u001b[0m\u001b[0;34m(\u001b[0m\u001b[0;34m)\u001b[0m\u001b[0;34m.\u001b[0m\u001b[0mfinditer\u001b[0m\u001b[0;34m(\u001b[0m\u001b[0mtext\u001b[0m\u001b[0;34m)\u001b[0m\u001b[0;34m:\u001b[0m\u001b[0;34m\u001b[0m\u001b[0m\n\u001b[1;32m   1279\u001b[0m             \u001b[0mcontext\u001b[0m \u001b[0;34m=\u001b[0m \u001b[0mmatch\u001b[0m\u001b[0;34m.\u001b[0m\u001b[0mgroup\u001b[0m\u001b[0;34m(\u001b[0m\u001b[0;34m)\u001b[0m \u001b[0;34m+\u001b[0m \u001b[0mmatch\u001b[0m\u001b[0;34m.\u001b[0m\u001b[0mgroup\u001b[0m\u001b[0;34m(\u001b[0m\u001b[0;34m'after_tok'\u001b[0m\u001b[0;34m)\u001b[0m\u001b[0;34m\u001b[0m\u001b[0m\n\u001b[0;32m-> 1280\u001b[0;31m             \u001b[0;32mif\u001b[0m \u001b[0mself\u001b[0m\u001b[0;34m.\u001b[0m\u001b[0mtext_contains_sentbreak\u001b[0m\u001b[0;34m(\u001b[0m\u001b[0mcontext\u001b[0m\u001b[0;34m)\u001b[0m\u001b[0;34m:\u001b[0m\u001b[0;34m\u001b[0m\u001b[0m\n\u001b[0m\u001b[1;32m   1281\u001b[0m                 \u001b[0;32myield\u001b[0m \u001b[0mslice\u001b[0m\u001b[0;34m(\u001b[0m\u001b[0mlast_break\u001b[0m\u001b[0;34m,\u001b[0m \u001b[0mmatch\u001b[0m\u001b[0;34m.\u001b[0m\u001b[0mend\u001b[0m\u001b[0;34m(\u001b[0m\u001b[0;34m)\u001b[0m\u001b[0;34m)\u001b[0m\u001b[0;34m\u001b[0m\u001b[0m\n\u001b[1;32m   1282\u001b[0m                 \u001b[0;32mif\u001b[0m \u001b[0mmatch\u001b[0m\u001b[0;34m.\u001b[0m\u001b[0mgroup\u001b[0m\u001b[0;34m(\u001b[0m\u001b[0;34m'next_tok'\u001b[0m\u001b[0;34m)\u001b[0m\u001b[0;34m:\u001b[0m\u001b[0;34m\u001b[0m\u001b[0m\n",
      "\u001b[0;32m/Users/parv/anaconda/lib/python2.7/site-packages/nltk/tokenize/punkt.pyc\u001b[0m in \u001b[0;36mtext_contains_sentbreak\u001b[0;34m(self, text)\u001b[0m\n\u001b[1;32m   1323\u001b[0m         \"\"\"\n\u001b[1;32m   1324\u001b[0m         \u001b[0mfound\u001b[0m \u001b[0;34m=\u001b[0m \u001b[0mFalse\u001b[0m \u001b[0;31m# used to ignore last token\u001b[0m\u001b[0;34m\u001b[0m\u001b[0m\n\u001b[0;32m-> 1325\u001b[0;31m         \u001b[0;32mfor\u001b[0m \u001b[0mt\u001b[0m \u001b[0;32min\u001b[0m \u001b[0mself\u001b[0m\u001b[0;34m.\u001b[0m\u001b[0m_annotate_tokens\u001b[0m\u001b[0;34m(\u001b[0m\u001b[0mself\u001b[0m\u001b[0;34m.\u001b[0m\u001b[0m_tokenize_words\u001b[0m\u001b[0;34m(\u001b[0m\u001b[0mtext\u001b[0m\u001b[0;34m)\u001b[0m\u001b[0;34m)\u001b[0m\u001b[0;34m:\u001b[0m\u001b[0;34m\u001b[0m\u001b[0m\n\u001b[0m\u001b[1;32m   1326\u001b[0m             \u001b[0;32mif\u001b[0m \u001b[0mfound\u001b[0m\u001b[0;34m:\u001b[0m\u001b[0;34m\u001b[0m\u001b[0m\n\u001b[1;32m   1327\u001b[0m                 \u001b[0;32mreturn\u001b[0m \u001b[0mTrue\u001b[0m\u001b[0;34m\u001b[0m\u001b[0m\n",
      "\u001b[0;32m/Users/parv/anaconda/lib/python2.7/site-packages/nltk/tokenize/punkt.pyc\u001b[0m in \u001b[0;36m_annotate_second_pass\u001b[0;34m(self, tokens)\u001b[0m\n\u001b[1;32m   1458\u001b[0m         \u001b[0mheuristic\u001b[0m \u001b[0;34m(\u001b[0m\u001b[0;36m4.1\u001b[0m\u001b[0;36m.2\u001b[0m\u001b[0;34m)\u001b[0m \u001b[0;32mand\u001b[0m \u001b[0mfrequent\u001b[0m \u001b[0msentence\u001b[0m \u001b[0mstarter\u001b[0m \u001b[0mheuristic\u001b[0m \u001b[0;34m(\u001b[0m\u001b[0;36m4.1\u001b[0m\u001b[0;36m.3\u001b[0m\u001b[0;34m)\u001b[0m\u001b[0;34m.\u001b[0m\u001b[0;34m\u001b[0m\u001b[0m\n\u001b[1;32m   1459\u001b[0m         \"\"\"\n\u001b[0;32m-> 1460\u001b[0;31m         \u001b[0;32mfor\u001b[0m \u001b[0mt1\u001b[0m\u001b[0;34m,\u001b[0m \u001b[0mt2\u001b[0m \u001b[0;32min\u001b[0m \u001b[0m_pair_iter\u001b[0m\u001b[0;34m(\u001b[0m\u001b[0mtokens\u001b[0m\u001b[0;34m)\u001b[0m\u001b[0;34m:\u001b[0m\u001b[0;34m\u001b[0m\u001b[0m\n\u001b[0m\u001b[1;32m   1461\u001b[0m             \u001b[0mself\u001b[0m\u001b[0;34m.\u001b[0m\u001b[0m_second_pass_annotation\u001b[0m\u001b[0;34m(\u001b[0m\u001b[0mt1\u001b[0m\u001b[0;34m,\u001b[0m \u001b[0mt2\u001b[0m\u001b[0;34m)\u001b[0m\u001b[0;34m\u001b[0m\u001b[0m\n\u001b[1;32m   1462\u001b[0m             \u001b[0;32myield\u001b[0m \u001b[0mt1\u001b[0m\u001b[0;34m\u001b[0m\u001b[0m\n",
      "\u001b[0;32m/Users/parv/anaconda/lib/python2.7/site-packages/nltk/tokenize/punkt.pyc\u001b[0m in \u001b[0;36m_pair_iter\u001b[0;34m(it)\u001b[0m\n\u001b[1;32m    308\u001b[0m     \"\"\"\n\u001b[1;32m    309\u001b[0m     \u001b[0mit\u001b[0m \u001b[0;34m=\u001b[0m \u001b[0miter\u001b[0m\u001b[0;34m(\u001b[0m\u001b[0mit\u001b[0m\u001b[0;34m)\u001b[0m\u001b[0;34m\u001b[0m\u001b[0m\n\u001b[0;32m--> 310\u001b[0;31m     \u001b[0mprev\u001b[0m \u001b[0;34m=\u001b[0m \u001b[0mnext\u001b[0m\u001b[0;34m(\u001b[0m\u001b[0mit\u001b[0m\u001b[0;34m)\u001b[0m\u001b[0;34m\u001b[0m\u001b[0m\n\u001b[0m\u001b[1;32m    311\u001b[0m     \u001b[0;32mfor\u001b[0m \u001b[0mel\u001b[0m \u001b[0;32min\u001b[0m \u001b[0mit\u001b[0m\u001b[0;34m:\u001b[0m\u001b[0;34m\u001b[0m\u001b[0m\n\u001b[1;32m    312\u001b[0m         \u001b[0;32myield\u001b[0m \u001b[0;34m(\u001b[0m\u001b[0mprev\u001b[0m\u001b[0;34m,\u001b[0m \u001b[0mel\u001b[0m\u001b[0;34m)\u001b[0m\u001b[0;34m\u001b[0m\u001b[0m\n",
      "\u001b[0;32m/Users/parv/anaconda/lib/python2.7/site-packages/nltk/tokenize/punkt.pyc\u001b[0m in \u001b[0;36m_annotate_first_pass\u001b[0;34m(self, tokens)\u001b[0m\n\u001b[1;32m    575\u001b[0m           \u001b[0;34m-\u001b[0m \u001b[0mellipsis_toks\u001b[0m\u001b[0;34m:\u001b[0m \u001b[0mThe\u001b[0m \u001b[0mindices\u001b[0m \u001b[0mof\u001b[0m \u001b[0mall\u001b[0m \u001b[0mellipsis\u001b[0m \u001b[0mmarks\u001b[0m\u001b[0;34m.\u001b[0m\u001b[0;34m\u001b[0m\u001b[0m\n\u001b[1;32m    576\u001b[0m         \"\"\"\n\u001b[0;32m--> 577\u001b[0;31m         \u001b[0;32mfor\u001b[0m \u001b[0maug_tok\u001b[0m \u001b[0;32min\u001b[0m \u001b[0mtokens\u001b[0m\u001b[0;34m:\u001b[0m\u001b[0;34m\u001b[0m\u001b[0m\n\u001b[0m\u001b[1;32m    578\u001b[0m             \u001b[0mself\u001b[0m\u001b[0;34m.\u001b[0m\u001b[0m_first_pass_annotation\u001b[0m\u001b[0;34m(\u001b[0m\u001b[0maug_tok\u001b[0m\u001b[0;34m)\u001b[0m\u001b[0;34m\u001b[0m\u001b[0m\n\u001b[1;32m    579\u001b[0m             \u001b[0;32myield\u001b[0m \u001b[0maug_tok\u001b[0m\u001b[0;34m\u001b[0m\u001b[0m\n",
      "\u001b[0;32m/Users/parv/anaconda/lib/python2.7/site-packages/nltk/tokenize/punkt.pyc\u001b[0m in \u001b[0;36m_tokenize_words\u001b[0;34m(self, plaintext)\u001b[0m\n\u001b[1;32m    540\u001b[0m         \"\"\"\n\u001b[1;32m    541\u001b[0m         \u001b[0mparastart\u001b[0m \u001b[0;34m=\u001b[0m \u001b[0mFalse\u001b[0m\u001b[0;34m\u001b[0m\u001b[0m\n\u001b[0;32m--> 542\u001b[0;31m         \u001b[0;32mfor\u001b[0m \u001b[0mline\u001b[0m \u001b[0;32min\u001b[0m \u001b[0mplaintext\u001b[0m\u001b[0;34m.\u001b[0m\u001b[0msplit\u001b[0m\u001b[0;34m(\u001b[0m\u001b[0;34m'\\n'\u001b[0m\u001b[0;34m)\u001b[0m\u001b[0;34m:\u001b[0m\u001b[0;34m\u001b[0m\u001b[0m\n\u001b[0m\u001b[1;32m    543\u001b[0m             \u001b[0;32mif\u001b[0m \u001b[0mline\u001b[0m\u001b[0;34m.\u001b[0m\u001b[0mstrip\u001b[0m\u001b[0;34m(\u001b[0m\u001b[0;34m)\u001b[0m\u001b[0;34m:\u001b[0m\u001b[0;34m\u001b[0m\u001b[0m\n\u001b[1;32m    544\u001b[0m                 \u001b[0mline_toks\u001b[0m \u001b[0;34m=\u001b[0m \u001b[0miter\u001b[0m\u001b[0;34m(\u001b[0m\u001b[0mself\u001b[0m\u001b[0;34m.\u001b[0m\u001b[0m_lang_vars\u001b[0m\u001b[0;34m.\u001b[0m\u001b[0mword_tokenize\u001b[0m\u001b[0;34m(\u001b[0m\u001b[0mline\u001b[0m\u001b[0;34m)\u001b[0m\u001b[0;34m)\u001b[0m\u001b[0;34m\u001b[0m\u001b[0m\n",
      "\u001b[0;31mUnicodeDecodeError\u001b[0m: 'ascii' codec can't decode byte 0xe2 in position 8: ordinal not in range(128)"
     ]
    }
   ],
   "source": [
    "sent_text = sent_tokenizer.tokenize(text)\n",
    "len(sent_text)\n",
    "# sent_text"
   ]
  },
  {
   "cell_type": "code",
   "execution_count": 6,
   "metadata": {
    "collapsed": false
   },
   "outputs": [
    {
     "data": {
      "text/plain": [
       "\"...Thank you so much.  That's so nice.  Isn't he a great guy.  He doesn't get a fair press; he doesn't get it.  It's just not fair.  And I have to tell you I'm here, and very strongly here, because I have great respect for Steve King and have great respect likewise for Citizens United, David and everybody, and tremendous resect for the Tea Party.  Also, also the people of Iowa.  They have something in common.  Hard-working people.  They want to work, they want to make the country great.  I love the people of Iowa.  So that's the way it is.  Very simple.\""
      ]
     },
     "execution_count": 6,
     "metadata": {},
     "output_type": "execute_result"
    }
   ],
   "source": [
    "para_text = re.sub('[\\n]+','\\n', text)\n",
    "para_text = para_text.split('\\n')\n",
    "opening_phrase = para_text[1]\n",
    "opening_phrase"
   ]
  },
  {
   "cell_type": "markdown",
   "metadata": {},
   "source": [
    "**Next, tokenize.**  Look at the several dozen sentences to see what kind of tokenization issues you'll have.  Write a regular expression tokenizer, using the nltk.regexp_tokenize() as seen in class, or using something more sophisticated if you prefer, to do a nice job of breaking your text up into words.  You may need to make changes to the regex pattern that is given in the book to make it work well for your text collection. \n",
    "\n",
    "*How you break up the words will have effects down the line for how you can manipulate your text collection.  You may want to refine this code later.*"
   ]
  },
  {
   "cell_type": "code",
   "execution_count": 52,
   "metadata": {
    "collapsed": false
   },
   "outputs": [
    {
     "data": {
      "text/plain": [
       "['SPEECH 1\\n...Thank you so much.',\n",
       " \"That's so nice.\",\n",
       " \"Isn't he a great guy.\",\n",
       " \"He doesn't get a fair press; he doesn't get it.\",\n",
       " \"It's just not fair.\",\n",
       " \"And I have to tell you I'm here, and very strongly here, because I have great respect for Steve King and have great respect likewise for Citizens United, David and everybody, and tremendous resect for the Tea Party.\",\n",
       " 'Also, also the people of Iowa.',\n",
       " 'They have something in common.',\n",
       " 'Hard-working people.',\n",
       " 'They want to work, they want to make the country great.',\n",
       " 'I love the people of Iowa.',\n",
       " \"So that's the way it is.\",\n",
       " 'Very simple.',\n",
       " 'With that said, our country is really headed in the wrong direction with a president who is doing an absolutely terrible job.',\n",
       " \"The world is collapsing around us, and many of the problems we've caused.\",\n",
       " 'Our president is either grossly incompetent, a word that more and more people are using, and I think I was the first to use it, or he has a completely different agenda than you want to know about, which could be possible.',\n",
       " 'In any event, Washington is broken, and our country is in serious trouble and total disarray.',\n",
       " 'Very simple.',\n",
       " 'Politicians are all talk, no action.',\n",
       " 'They are all talk and no action.',\n",
       " \"And it's constant; it never ends.\",\n",
       " \"And I'm a conservative, actually very conservative, and I'm a Republican.\",\n",
       " \"And I'm very disappointed by our Republican politicians.\",\n",
       " 'Because they let the president get away with absolute murder.',\n",
       " \"You see always, oh we're going to do this, we're going to--.\",\n",
       " 'Nothing ever happens; nothing ever happens.',\n",
       " 'You look at Obamacare.',\n",
       " \"A total catastrophe and by the way it really kicks in in '16 and it is going to be a disaster.\",\n",
       " 'People are closing up shops.',\n",
       " 'Doctors are quitting the business.',\n",
       " \"I have a friend of mine who's a doctor, a very good doctor, a very successful guy.\",\n",
       " 'He said, I have more accountants than I have patients.',\n",
       " \"And he needs because it is so complicated and so terrible and he's never had that before and he's going to close up his business.\",\n",
       " 'And he was very successful guy.',\n",
       " \"But it's happening more and more.\",\n",
       " 'Look at Obamacare with a $5 billion website.',\n",
       " 'I have many websites, many, many websites.',\n",
       " \"They're all over the place.\",\n",
       " 'But for $10, okay?',\n",
       " 'Now everything about Obamacare was a lie.',\n",
       " 'It was a filthy lie.',\n",
       " 'And when you think about it, lies, I mean are they prosecuted?',\n",
       " 'Does anyone do anything?',\n",
       " 'And what are the Republican politicians doing about it?',\n",
       " 'He lied about the doctor, he lied about every aspect.',\n",
       " 'You can keep your plan.',\n",
       " \"And you've all heard that hundreds of times.\",\n",
       " \"That's like the real estate location, location.\",\n",
       " \"I don't even say it anymore because everybody goes location, location.\",\n",
       " 'But you have heard this about Obamacare.',\n",
       " \"And it's disgraceful.\",\n",
       " \"It's a big, fat, horrible lie.\",\n",
       " 'Your deductibles are going through the roof.',\n",
       " \"You're not going to get--unless you're hit by an army tank, you're not going to get coverage.\",\n",
       " \"And people that had plans that they loved, that they really loved, don't have those plans anymore.\",\n",
       " \"So it's a real, real disaster.\",\n",
       " 'And somebody has to repeal and replace Obamacare.',\n",
       " 'And they have to do it fast and not just talk about it.',\n",
       " 'Now, we have to build a fence.',\n",
       " \"And it's got to be a beauty.\",\n",
       " 'Who can build better than Trump?',\n",
       " \"I build; it's what I do.\",\n",
       " 'I build; I build nice fences, but I build great buildings.',\n",
       " 'Fences are easy, believe me.',\n",
       " 'I saw the other day on television people just walking across the border.',\n",
       " \"They're walking.\",\n",
       " 'The military is standing there holding guns and people are just walking right in front, coming into our country.',\n",
       " 'It is so terrible.',\n",
       " 'It is so unfair.',\n",
       " 'It is so incompetent.',\n",
       " \"And we don't have the best coming in.\",\n",
       " 'We have people that are criminals, we have people that are crooks.',\n",
       " 'You can certainly have terrorists.',\n",
       " 'You can certainly have Islamic terrorists.',\n",
       " 'You can have anything coming across the border.',\n",
       " \"We don't do anything about it.\",\n",
       " 'So I would say that if I run and if I win, I would certainly start by building a very, very powerful border.',\n",
       " 'Again, the politicians talk about it and they do nothing about it.',\n",
       " 'Benghazi.',\n",
       " 'Oh, Benghazi, Benghazi.',\n",
       " 'Everything is Benghazi.',\n",
       " 'What happens?',\n",
       " 'Nothing.',\n",
       " 'IRS, e-mails.',\n",
       " 'I get sued all the time, okay.',\n",
       " 'I run a big business.',\n",
       " \"You know I've always said it's very, very hard for a person who is very successful.\",\n",
       " 'I have done so many deals.',\n",
       " 'Almost all of them have been tremendously successful.',\n",
       " \"You'll see that when I file my statements.\",\n",
       " 'I mean you will see; you will be very proud of me, okay.',\n",
       " \"But I've always said, and I said it strongly, it's very hard for somebody that does tremendous numbers of deals to run for politics, run for political office, any office, let alone president.\",\n",
       " \"Because you've done so much; you've beaten so many people; you've created so many--  Look, Obama, what did he do?\",\n",
       " 'No deal.',\n",
       " 'He never did a deal.',\n",
       " 'He did one deal.',\n",
       " 'A house.',\n",
       " \"And if you did that house you'd be in jail right now, okay.\",\n",
       " 'He got away with murder.',\n",
       " 'But I can tell you, e-mails.',\n",
       " 'IRS, the e-mails, thousands of them, they were lost; they were lost.',\n",
       " \"If you were in my world you would know that e-mails can't be lost; they can't be lost.\",\n",
       " \"So why aren't our politicians finding out where those e-mails are?\",\n",
       " \"They talk about executive orders and they talk about immigration and they talk about oh well we have to stop the border; that's the end of it.\",\n",
       " 'Believe me if I did something you would have a border that would be great.',\n",
       " 'But they talk about it.',\n",
       " 'And then you have a president that does an executive order.',\n",
       " 'Nobody even heard of an executive order.',\n",
       " 'He does it to let people come in and nobody does anything about executive orders.',\n",
       " \"Why didn't they go to court and ask for declaratory judgment--which is something that when you know somebody is going to go after you and when it's in writing, and he's been saying it for a long time; he said, I'm going to approve this and that--why didn't our Republicans go in and get a declaratory judgment from the courts because you could have started the process six months earlier.\",\n",
       " \"Instead they have a weak lawsuit, that probably the time it's finished, I know so much about this, six, seven, eight years from now everyone's going to forget about it.\",\n",
       " \"We'll be into a different mode, and our country will be further destroyed.\",\n",
       " 'So we have to do something.',\n",
       " 'Jobs.',\n",
       " 'China.',\n",
       " \"I mean I've made so much money fighting against the Chinese.\",\n",
       " 'One of the best deals I ever did was against the Chinese, and they respect me for it.',\n",
       " 'And I know them.',\n",
       " \"And they say, we can't believe what we're getting away with.\",\n",
       " \"We can't believe how stupid your leaders are.\",\n",
       " 'They tell me that.',\n",
       " \"Now they don't know I'm going to go and make a speech about it, but why not.\",\n",
       " 'But they tell me that.',\n",
       " \"And by the way, especially for the folks here that sell so much--goods, I mean the goods you sell are incredible; I don't know if you've been watching what's happening with the devaluations of so many countries.\",\n",
       " 'The Euro, China is going crazy with the devaluation.',\n",
       " \"I never thought that they'd have the guts to do what they're doing.\",\n",
       " 'They are devaluing down to nothing.',\n",
       " \"And what it's going to do is make it impossible for you to sell your product; it's going make it impossible for you to compete.\",\n",
       " \"And they're getting away with it.\",\n",
       " \"And they wouldn't have even done it two years ago, but now they feel we're so weak and we have so many different problems all over the world that they can do it.\",\n",
       " 'But you watch this devaluation of all of it.',\n",
       " 'I mean the Euro, China, Mexico; everybody is devaluing.',\n",
       " 'And when you hear the dollar is getting stronger, it sounds good.',\n",
       " \"You know it's one of those things, sounds good.\",\n",
       " 'Be very careful.',\n",
       " 'Be very careful.',\n",
       " \"Because we're just going to lose more and more business to these foreign countries that really know what they are doing.\",\n",
       " 'They have it set.',\n",
       " \"Don't forget another thing.\",\n",
       " 'China became the number one economic power a year ago.',\n",
       " 'That was unthinkable; to think that that was going to happen.',\n",
       " 'It was absolutely unthinkable.',\n",
       " \"So it happened and it's very, very sad.\",\n",
       " 'Now we spent $2 trillion in Iraq.',\n",
       " 'We got nothing.',\n",
       " \"They don't even respect us; they don't even care about us.\",\n",
       " 'Until they started getting their ass kicked, and call, oh please come back and help us.',\n",
       " 'We want you out; then all of the sudden a new group forms, ISIS.',\n",
       " 'By the way, you know how they formed.',\n",
       " 'They took the oil.',\n",
       " 'And for those of you that know and love Donald Trump--there are some of you--have I been saying for four years, keep the oil.',\n",
       " 'So now ISIS has the oil.',\n",
       " \"And the stuff that ISIS doesn't have, Iran is going to take.\",\n",
       " 'So we get nothing.',\n",
       " 'We have $2 trillion and we have thousands of lives lost, thousands, and we have, what do we have.',\n",
       " 'I mean I walk down the streets of New York and I see so many wounded warriors, incredible people.',\n",
       " 'And we have to help those people, we have to help our vets, we have to help our military, we have to build our military.',\n",
       " 'But, and we have to do it fast; we have to do it fast.',\n",
       " 'We have incompetent people.',\n",
       " \"They put people in charge that have no clue what they're doing.\",\n",
       " 'It needs money.',\n",
       " 'We have to make our country rich again so we do that, so we can save Social Security.',\n",
       " \"'Cause I'm not a cutter; I'll probably be the only Republican that does not want to cut Social Security.\",\n",
       " \"I'm not a cutter of Social Security; I want to make the country rich so that Social Security can be afforded, and Medicare and Medicaid.\",\n",
       " \"Get rid of the waste, get rid of the fraud, but you deserve your Social Security; you've been paying your Security.\",\n",
       " 'And like, I like Congressman Ryan, I like a lot of the people that are talking about you know cutting Social Security, and by the way the Democrats are eating your lunch on this issue.',\n",
       " \"It's an issue that you're not going to win; you've got to make the country rich again and strong again so that you can afford it, and so you can afford military, and all of the other things.\",\n",
       " 'Now, we have a game changer now, and the game changer is nuclear weapons.',\n",
       " 'We really do have to get strong, and we have to get strong fast.',\n",
       " \"We can't let Iran get a nuclear weapon.\",\n",
       " \"We can't do it.\",\n",
       " \"Can't do it.\",\n",
       " 'We cannot let that happen.',\n",
       " 'You know in the old days, I would have said 100 years ago, 50 years ago, 30 years ago, pull out and let them fight each other.',\n",
       " 'Here we are in Syria.',\n",
       " \"We're fighting people that want to overturn Syria.\",\n",
       " 'Think of this.',\n",
       " \"We're fighting ISIS, but ISIS wants to overturn the government.\",\n",
       " 'Maybe you let them fight for a little while and then you take out the one that remains, okay.',\n",
       " 'But think of it; think of it.',\n",
       " 'ISIS is fighting them and we are bombing the hell out of them, but we want Syria to fall.',\n",
       " 'There are so many things; there are so many things.',\n",
       " 'But the one game changer that we have to be careful with, that we never really had to think about  too much before, other than a cetain number of years ago, is the nuclear.',\n",
       " \"Nuclear today, it's not like soldiers in uniforms shooting rifles.\",\n",
       " 'You can take out the East Coast of this country, you can take out large sections of the Midwest, you can take out things that were unthinkable.',\n",
       " 'The power.',\n",
       " 'And we have to be in a position where that never, ever, ever, every happens.',\n",
       " \"We've never had this before.\",\n",
       " \"We have a situation in Afghanistan; we're spending tremendous amounts of money there.\",\n",
       " \"We're trying to do the right thing.\",\n",
       " 'We have leadership, again--no leadership respects us.',\n",
       " \"You know, leadership of other places never respect stupid people, okay, that's one thing you're going to find.\",\n",
       " 'The same thing is happening there.',\n",
       " 'And I never knew that Afghanistan until a year ago or so, Afghanistan has tremendous wealth in minerals, different, not the oil, but minerals.',\n",
       " \"And we're fighting here, and on the other side of the mountain China is taking out all the minerals.\",\n",
       " \"They're taking it out.\",\n",
       " 'Trillion of dollars and millions of dollars of minerals.',\n",
       " \"So we're fighting here and they are taking it out, looking at us and saying thank you very much sucker.\",\n",
       " \"It's really, really crazy.\",\n",
       " 'So we have to rebuild quickly our infrastructure of this country.',\n",
       " \"If we don't--  The other day in Ohio a bridge collapsed.\",\n",
       " 'Bridges are collapsing all over the country.',\n",
       " \"The reports on bridges and the like are unbelievable, what's happening with our infrastructure.\",\n",
       " 'I go to Saudi Arabia, I go to Dubai; I am doing big jobs in Dubai.',\n",
       " 'I go to various different places.',\n",
       " 'I go to China.',\n",
       " 'They are building a bridge on every corner.',\n",
       " 'They have bridges that make the George Washington Bridge like small time stuff.',\n",
       " \"They're building the most incredible things you have ever seen.\",\n",
       " 'They are building airports in Qatar--which they like to say \"cutter\" but I\\'ve always said \"qatar\" so I\\'ll keep it \"qatar\" what the hell.',\n",
       " \"But they're building, they're building an airport and have just completed an airport the likes of which you have never seen, in Dubai an airport the likes of which you have never seen.\",\n",
       " 'And then I come back to LaGuardia where the runways have potholes.',\n",
       " 'The place is falling apart.',\n",
       " \"You go into the main terminal and they have a terraza floor that's so old it's falling apart.\",\n",
       " 'And they have a hole in it, and they replace it with asphalt.',\n",
       " 'So you have a white terraza floor and they put asphalt all over the place.',\n",
       " 'This is inside, not outside.',\n",
       " \"And I just left Dubai where they have the most incredible thing you've ever seen.\",\n",
       " 'In fact my pilot said oh Mr. Trump this is such an honor.',\n",
       " \"I said it's not an honor; they're just smart.\",\n",
       " \"But you look at LAX, and you look at Kennedy Airport, and you look at our airports generally, you look at our roadways where they're crumbling.\",\n",
       " \"You look at all of the things that are bad--  I'll give you an example.\",\n",
       " \"And this isn't part of what I was going to say, but I ride down the highways and somebody makes those guard rails.\",\n",
       " 'You know the guard rails.',\n",
       " 'The ones that sort of go like this [demonstrates with hand] that are always  bent, rusted and horrible.',\n",
       " \"Did you ever see more than like 20 feet which isn't corroded, or bent or the heat, if it gets too hot, it just crushes.\",\n",
       " \"Now they've been selling this thing for 25 years.\",\n",
       " \"Why doesn't someone stop them and get something that works.\",\n",
       " \"Because they don't know; they don't know what's happening.\",\n",
       " 'Somebody made a lot of money on that.',\n",
       " \"They don't know what is happening.\",\n",
       " 'So we have to make our country great again.',\n",
       " 'We have to rebuild our country.',\n",
       " 'And we have a long way to go.',\n",
       " 'We are just in such serious trouble because we owe so much money.',\n",
       " 'Now we owe it to the Chinese, a lot of it.',\n",
       " 'We owe it to other countries.',\n",
       " \"They're the ones that hold the debt.\",\n",
       " 'And then we give them money.',\n",
       " \"We have countries that we owe money to and yet we're giving them subsidies.\",\n",
       " 'I just ordered thousands of television sets and between LG and Samsung and I mean you know--  No American company comes to see and comes to bid.',\n",
       " \"It's South Korea, and whenever they have a problem we send the battleships, we send the destroyers, we send our airplanes, we're going to protect them.\",\n",
       " \"What are we doing; why aren't they paying us?\",\n",
       " \"Why aren't they paying us; what are we doing?\",\n",
       " \"I order thousands and thousands of sets all the time, for some reason it's South Korea.\",\n",
       " \"You know whether it's China, South Korea, but in this case televisions, South Korea.\",\n",
       " \"Why aren't they doing something to justify what is going on?\",\n",
       " 'Now, we have a very important election coming up.',\n",
       " 'We have a presidential election coming up.',\n",
       " 'And we have some good people.',\n",
       " 'Nobody like Trump of course, but these are minor details.',\n",
       " 'We have some good people.',\n",
       " \"It' can't be Mitt because Mitt ran and failed.\",\n",
       " 'He failed.',\n",
       " 'I mean I liked him.',\n",
       " \"Look--like him, dislike him--the 47% statement that he made, that's not going away.\",\n",
       " \"The Romneycare from Massachusetts, that's not going away.\",\n",
       " \"What do you think they're going to say oh we won't bring that up this time.\",\n",
       " \"It's not fair because it was a long t--  That doesn't work.\",\n",
       " 'But more importantly, he choked.',\n",
       " 'Something happened to him in the last month.',\n",
       " 'He had that election won.',\n",
       " 'And let me tell you something.',\n",
       " \"That election, sort of like a dealmaker that can't close the deal.\",\n",
       " \"I know many of those guys; they get it up to the one-yard line, they go ah, ah I can't close it.\",\n",
       " \"Or a golfer that can't sink the three-footer to win the tournament.\",\n",
       " 'And there are many of them.',\n",
       " 'Most people are like that; I mean most people are like that.',\n",
       " \"You can't give somebody another chance, 'cause actually I think this election is tougher to win than beating a failed president.\",\n",
       " 'I really do.',\n",
       " \"I think beating Obama would have been a much easier one than the one that's coming up, which is sad to say but true.\",\n",
       " \"So you can't have Romney.\",\n",
       " 'He choked.',\n",
       " \"You can't have Bush.\",\n",
       " 'The last thing we need is another Bush.',\n",
       " 'Now I made that statement very strongly, and now every one says the last thing--  You know they copied it.',\n",
       " \"I'll be accused of copying the statement; that's the bad thing.\",\n",
       " 'But I said it.',\n",
       " 'I was the one that said it first, and I mean it.',\n",
       " 'The last thing we need is another Bush.',\n",
       " \"Now, he's totally in favor of Common Core; that's a disaster, that's bad, it should be local and all of that.\",\n",
       " \"But he's totally in favor of Common Core.\",\n",
       " \"He's very, very weak on immigration.\",\n",
       " \"Don't forget--remember his statement--they come for love.\",\n",
       " 'I say, what?',\n",
       " 'Come for love?',\n",
       " \"You've got these people coming, half of them are criminals.\",\n",
       " \"They're coming for love?\",\n",
       " \"They're coming for a lot of other reasons, and it's not love.\",\n",
       " 'And when he runs, you got to remember his brother really gave us Obama.',\n",
       " 'I was never a big fan, but his brother gave us Obama.',\n",
       " \"'Cause Abraham Lincoln coming home back from the dead could not have won the election because it was going so badly and the economy was just absolutely in shambles that last couple of months.\",\n",
       " 'And then he appointed Justice Roberts.',\n",
       " 'And Jeb wanted Justice Roberts.',\n",
       " 'And Justice Roberts basically approved Obamacare in a shocking decision that nobody believes.',\n",
       " \"So you can't have Jeb Bush.\",\n",
       " \"And he's going to lose aside from that; he's not going to win.\",\n",
       " \"So Mitt and--you just can't have those two.\",\n",
       " \"That's it.\",\n",
       " \"That's it.\",\n",
       " \"It's so simple.\",\n",
       " \"So just in summing up and I just wrote a few of these little points down because it's very important.\",\n",
       " 'And I watch these teleprompters, and by the way I think any president candidate that runs should not be allowed to use a teleprompter, because we got one that uses teleprompters.',\n",
       " 'And people say, oh he is so quick on his feet.',\n",
       " 'He is reading it.',\n",
       " 'I mean give me a break.',\n",
       " 'Everything is read.',\n",
       " \"You don't really test the mettle of a man or a woman unless they can get up on stage and talk.\",\n",
       " \"And that's what we ended up getting--the king of teleprompters.\",\n",
       " \"But, so when I look at these things here I say you know what, it's so much easier, it would be so nice, just bah, pa, bah, pa, bah, bing, bing, bing.\",\n",
       " \"No problems, get off stage, everybody falls asleep and that's the end of that.\",\n",
       " 'But we have to do something about these teleprompters.',\n",
       " 'But in looking at these situations--  I built an incredible company.',\n",
       " \"And you'll see that.\",\n",
       " 'An incredible company; a wonderful company.',\n",
       " \"I employ thousands of people and I love doing what I'm doing.\",\n",
       " \"And in a certain way, I wish I weren't doing this, but our country is in such trouble and would be so easy to fix.\",\n",
       " 'We have such great potential.',\n",
       " \"So if I run for president and if I win, I would totally succeed in:\\ncreating jobs;\\ndefeating ISIS and stopping the Islamic terrorists--and you have to do that;\\nreducing the budget deficit--so important, have to do it;\\nsecuring our Southern border--and I mean seriously securing it;\\nstopping nuclear weapons in Iran and elsewhere;\\nsaving Social Security, Medicare and Medicaid, without cutting it down to the bone because it's not fair to people that have been paying for their whole lives and other people and it's not fair to future people coming up, and we can do it;\\nrepealing Obamacare and replacing it with something far better for the people, and far less expensive, both for the people and for the country.\",\n",
       " 'And believe me there are plans that are so much better for everybody.',\n",
       " 'And everybody can be covered.',\n",
       " \"I'm not saying leave 50-percent of the people out.\",\n",
       " 'Everybody can be c-- This plan is just a basic disaster.',\n",
       " 'Nobody knows.',\n",
       " \"As bad as the website was, this is how bad the plan itself is;\\nfixing our country's infrastructure, our bridges, our schools, our highways, our airports.\",\n",
       " 'And that, I can tell you, nobody is close to Trump.',\n",
       " 'I just got the best hotel in North America.',\n",
       " \"I'm building, which is sort of interesting, think of this one.\",\n",
       " \"I'm building one of the great hotels of the world on Pennsylvania Avenue, right opposite the White House, between the White House and Congress.\",\n",
       " 'Right on Penn.--  The  Old Post Office site, and I got it from Obama.',\n",
       " 'Do you believe that?',\n",
       " 'And everybody wanted it.',\n",
       " \"So, I can't believe it myself.\",\n",
       " \"But it's going to be fantastic;\\nand so many other things.\",\n",
       " 'I know what needs to be done to make America great again.',\n",
       " 'We can make this country great again.',\n",
       " 'The potential is enormous.',\n",
       " 'And I am serious thinking of running for president because I can do the job.',\n",
       " 'Thank you all very much.',\n",
       " 'Thank you.',\n",
       " 'Thank you.',\n",
       " 'Thank you.',\n",
       " 'Thank you.',\n",
       " 'Thank you very much, everybody.',\n",
       " 'Thank you.',\n",
       " 'Beautiful.',\n",
       " 'Thank you.',\n",
       " 'SPEECH 2\\nThank you for the opportunity to speak to you, and thank you to the Center for National Interest for honoring me with this invitation.',\n",
       " 'It truly is a great honor.',\n",
       " 'I’d like to talk today about how to develop a new foreign policy direction for our country, one that replaces randomness with purpose, ideology with strategy, and chaos with peace.',\n",
       " 'It’s time to shake the rust off America’s foreign policy.',\n",
       " 'It’s time to invite new voices and new visions into the fold, something we have to do.',\n",
       " 'The direction I will outline today will also return us to a timeless principle.',\n",
       " 'My foreign policy will always put the interests of the American people and American security above all else.',\n",
       " 'It has to be first.',\n",
       " 'Has to be.',\n",
       " 'That will be the foundation of every single decision that I will make.',\n",
       " 'America First will be the major and overriding theme of my administration.',\n",
       " 'But to chart our path forward, we must first briefly take a look back.',\n",
       " 'We have a lot to be proud of.',\n",
       " 'In the 1940s we saved the world.',\n",
       " 'The greatest generation beat back the Nazis and Japanese imperialists.',\n",
       " 'Then we saved the world again.',\n",
       " 'This time, from totalitarianism and communism.',\n",
       " 'The Cold War lasted for decades but, guess what, we won and we won big.',\n",
       " 'Democrats and Republicans working together got Mr. Gorbachev to heed the words of President Reagan, our great president, when he said, tear down this wall.',\n",
       " 'History will not forget what he did.',\n",
       " 'A very special man and president.',\n",
       " 'Unfortunately, after the Cold War our foreign policy veered badly off course.',\n",
       " 'We failed to develop a new vision for a new time.',\n",
       " 'In fact, as time went on, our foreign policy began to make less and less sense.',\n",
       " 'Logic was replaced with foolishness and arrogance, which led to one foreign policy disaster after another.',\n",
       " 'They just kept coming and coming.',\n",
       " 'We went from mistakes in Iraq to Egypt to Libya, to President Obama’s line in the sand in Syria.',\n",
       " 'Each of these actions have helped to throw the region into chaos and gave ISIS the space it needs to grow and prosper.',\n",
       " 'Very bad.',\n",
       " 'It all began with a dangerous idea that we could make western democracies out of countries that had no experience or interests in becoming a western democracy.',\n",
       " 'We tore up what institutions they had and then were surprised at what we unleashed.',\n",
       " 'Civil war, religious fanaticism, thousands of Americans and just killed be lives, lives, lives wasted.',\n",
       " 'Horribly wasted.',\n",
       " 'Many trillions of dollars were lost as a result.',\n",
       " 'The vacuum was created that ISIS would fill.',\n",
       " 'Iran, too, would rush in and fill that void much to their really unjust enrichment.',\n",
       " 'They have benefited so much, so sadly, for us.',\n",
       " 'Our foreign policy is a complete and total disaster.',\n",
       " 'No vision.',\n",
       " 'No purpose.',\n",
       " 'No direction.',\n",
       " 'No strategy.',\n",
       " 'Today I want to identify five main weaknesses in our foreign policy.',\n",
       " 'First, our resources are totally over extended.',\n",
       " 'President Obama has weakened our military by weakening our economy.',\n",
       " 'He’s crippled us with wasteful spending, massive debt, low growth, a huge trade deficit and open borders.',\n",
       " 'Our manufacturing trade deficit with the world is now approaching $1 trillion a year.',\n",
       " 'We’re rebuilding other countries while weakening our own.',\n",
       " 'Ending the theft of American jobs will give us resources we need to rebuild our military, which has to happen and regain our financial independence and strength.',\n",
       " 'I am the only person running for the presidency who understands this and this is a serious problem.',\n",
       " 'I’m the only one — believe me, I know them all, I’m the only one who knows how to fix it.',\n",
       " 'Secondly, our allies are not paying their fair share, and I’ve been talking about this recently a lot.',\n",
       " 'Our allies must contribute toward their financial, political, and human costs, have to do it, of our tremendous security burden.',\n",
       " 'But many of them are simply not doing so.',\n",
       " 'They look at the United States as weak and forgiving and feel no obligation to honor their agreements with us.',\n",
       " 'In NATO, for instance, only 4 of 28 other member countries besides America, are spending the minimum required 2 percent of GDP on defense.',\n",
       " 'We have spent trillions of dollars over time on planes, missiles, ships, equipment, building up our military to provide a strong defense for Europe and Asia.',\n",
       " 'The countries we are defending must pay for the cost of this defense, and if not, the U.S. must be prepared to let these countries defend themselves.',\n",
       " 'We have no choice.',\n",
       " 'The whole world will be safer if our allies do their part to support our common defense and security.',\n",
       " 'A Trump administration will lead a free world that is properly armed and funded, and funded beautifully.',\n",
       " 'Thirdly, our friends are beginning to think they can’t depend on us.',\n",
       " 'We’ve had a president who dislikes our friends and bows to our enemies, something that we’ve never seen before in the history of our country.',\n",
       " 'He negotiated a disastrous deal with Iran, and then we watched them ignore its terms even before the ink was dry.',\n",
       " 'Iran cannot be allowed to have a nuclear weapon, cannot be allowed.',\n",
       " 'Remember that, cannot be allowed to have a nuclear weapon.',\n",
       " 'And under a Trump administration, will never, ever be allowed to have that nuclear weapon.',\n",
       " 'All of this without even mentioning the humiliation of the United States with Iran’s treatment of our ten captured sailors — so vividly I remember that day.',\n",
       " 'In negotiation, you must be willing to walk.',\n",
       " 'The Iran deal, like so many of our worst agreements, is the result of not being willing to leave the table.',\n",
       " 'When the other side knows you’re not going to walk, it becomes absolutely impossible to win — you just can’t win.',\n",
       " 'At the same time, your friends need to know that you will stick by the agreements that you have with them.',\n",
       " 'You’ve made that agreement, you have to stand by it and the world will be a better place.',\n",
       " 'President Obama gutted our missile defense program and then abandoned our missile defense plans with Poland and the Czech Republic.',\n",
       " 'He supported the ouster of a friendly regime in Egypt that had a longstanding peace treaty with Israel, and then helped bring the Muslim Brotherhood to power in its place.',\n",
       " 'Israel, our great friend and the one true democracy in the Middle East has been snubbed and criticized by an administration that lacks moral clarity.',\n",
       " 'Just a few days ago, Vice President Biden again criticized Israel, a force for justice and peace, for acting as an impatient peace area in the region.',\n",
       " 'President Obama has not been a friend to Israel.',\n",
       " 'He has treated Iran with tender love and care and made it a great power.',\n",
       " 'Iran has, indeed, become a great, great power in just a very short period of time, because of what we’ve done.',\n",
       " 'All of the expense and all at the expense of Israel, our allies in the region and very importantly, the United States itself.',\n",
       " 'We’ve picked fights with our oldest friends, and now they’re starting to look elsewhere for help.',\n",
       " 'Remember that.',\n",
       " 'Not good.',\n",
       " 'Fourth, our rivals no longer respect us.',\n",
       " 'In fact, they’re just as confused as our allies, but in an even bigger problem is they don’t take us seriously anymore.',\n",
       " 'The truth is they don’t respect us.',\n",
       " 'When President Obama landed in Cuba on Air Force One, no leader was there, nobody, to greet him.',\n",
       " 'Perhaps an incident without precedent in the long and prestigious history of Air Force One.',\n",
       " 'Then amazingly, the same thing happened in Saudi Arabia.',\n",
       " 'It’s called no respect.',\n",
       " 'Absolutely no respect.',\n",
       " 'Do you remember when the president made a long and expensive trip to Copenhagen, Denmark, to get the Olympics for our country, and after this unprecedented effort, it was announced that the United States came in fourth — fourth place?',\n",
       " 'The president of the United States making this trip — unprecedented — comes in fourth place.',\n",
       " 'He should have known the result before making such an embarrassing commitment.',\n",
       " 'We were laughed at all over the world, as we have been many, many times.',\n",
       " 'The list of humiliations go on and on and on.',\n",
       " 'President Obama watches helplessly as North Korea increases its aggression and expands further and further with its nuclear reach.',\n",
       " 'Our president has allowed China to continue its economic assault on American jobs and wealth, refusing to enforce trade deals and apply leverage on China necessary to rein in North Korea.',\n",
       " 'We have the leverage.',\n",
       " 'We have the power over China, economic power, and people don’t understand it.',\n",
       " 'And with that economic power, we can rein in and we can get them to do what they have to do with North Korea, which is totally out of control.',\n",
       " 'He has even allowed China to steal government secrets with cyber attacks and engaged in industrial espionage against the United States and its companies.',\n",
       " 'We’ve let our rivals and challengers think they can get away with anything, and they do.',\n",
       " 'They do at will.',\n",
       " 'It always happens.',\n",
       " 'If President Obama’s goal had been to weaken America, he could not have done a better job.',\n",
       " 'Finally, America no longer has a clear understanding of our foreign policy goals.',\n",
       " 'Since the end of the Cold War and the breakup of the Soviet Union, we’ve lacked a coherent foreign policy.',\n",
       " 'One day, we’re bombing Libya and getting rid of a dictator to foster democracy for civilians.',\n",
       " 'The next day, we’re watching the same civilians suffer while that country falls and absolutely falls apart.',\n",
       " 'Lives lost, massive moneys lost.',\n",
       " 'The world is a different place.',\n",
       " 'We’re a humanitarian nation, but the legacy of the Obama-Clinton interventions will be weakness, confusion and disarray, a mess.',\n",
       " 'We’ve made the Middle East more unstable and chaotic than ever before.',\n",
       " 'We left Christians subject to intense persecution and even genocide.',\n",
       " 'We have done nothing to help the Christians, nothing, and we should always be ashamed for that, for that lack of action.',\n",
       " 'Our actions in Iraq, Libya and Syria have helped unleash ISIS, and we’re in a war against radical Islam, but President Obama won’t even name the enemy, and unless you name the enemy, you will never ever solve the problem.',\n",
       " 'Hillary Clinton also refuses to say the words radical Islam, even as she pushes for a massive increase in refugees coming into our country.',\n",
       " 'After Secretary Clinton’s failed intervention in Libya, Islamic terrorists in Benghazi took down our consulate and killed our ambassador and three brave Americans.',\n",
       " 'Then, instead of taking charge that night, Hillary Clinton decided to go home and sleep.',\n",
       " 'Incredible.',\n",
       " 'Clinton blames it all on a video, an excuse that was a total lie, proven to be absolutely a total lie.',\n",
       " 'Our ambassador was murdered and our secretary of state misled the nation.',\n",
       " 'And, by the way, she was not awake to take that call at 3 o’clock in the morning.',\n",
       " 'And now ISIS is making millions and millions of dollars a week selling Libya oil.',\n",
       " 'And you know what?',\n",
       " 'We don’t blockade, we don’t bomb, we don’t do anything about it.',\n",
       " 'It’s almost as if our country doesn’t even know what’s happening, which could be a fact and could be true.',\n",
       " 'This will all change when I become president.',\n",
       " 'To our friends and allies, I say America is going to be strong again.',\n",
       " 'America is going to be reliable again.',\n",
       " 'It’s going to be a great and reliable ally again.',\n",
       " 'It’s going to be a friend again.',\n",
       " 'We’re going to finally have a coherent foreign policy based upon American interests and the shared interests of our allies.',\n",
       " 'We’re getting out of the nation-building business and instead focusing on creating stability in the world.',\n",
       " 'Our moments of greatest strength came when politics ended at the water’s edge.',\n",
       " 'We need a new rational American foreign policy, informed by the best minds and supported by both parties, and it will be by both parties — Democrats, Republicans, independents, everybody, as well as by our close allies.',\n",
       " 'This is how we won the Cold War and it’s how we will win our new future struggles, which may be many, which may be complex, but we will win if I become president.',\n",
       " 'First, we need a long-term plan to halt the spread and reach of radical Islam.',\n",
       " 'Containing the spread of radical Islam must be a major foreign policy goal of the United States and indeed the world.',\n",
       " 'Events may require the use of military force, but it’s also a philosophical struggle, like our long struggle in the Cold War.',\n",
       " 'In this, we’re going to be working very closely with our allies in the Muslim world, all of which are at risk from radical Islamic violence, attacks and everything else.',\n",
       " 'It is a dangerous world, more dangerous now than it has ever been.',\n",
       " 'We should work — thank you.',\n",
       " 'We should work together with any nation in the region that is threatened by the rise of radical Islam.',\n",
       " 'But this has to be a two-way street.',\n",
       " 'They must also be good to us.',\n",
       " 'Remember that.',\n",
       " 'They have to be good to us, no longer one way.',\n",
       " 'It’s now two-way.',\n",
       " 'And remember, us and all we’re doing, they have to appreciate what we’ve done to them.',\n",
       " 'We’re going to help, but they have to appreciate what we’ve done for them.',\n",
       " 'The struggle against radical Islam also takes place in our homeland.',\n",
       " 'There are scores of recent migrants inside our borders charged with terrorism.',\n",
       " 'For every case known to the public, there are dozens and dozens more.',\n",
       " 'We must stop importing extremism through senseless immigration policies.',\n",
       " 'We have no idea where these people are coming from.',\n",
       " 'There’s no documentation.',\n",
       " 'There’s no paperwork.',\n",
       " 'There’s nothing.',\n",
       " 'We have to be smart.',\n",
       " 'We have to be vigilant.',\n",
       " 'A pause for reassessment will help us to prevent the next San Bernardino or frankly, much worse.',\n",
       " 'All you have to do is look at the World Trade Center and September 11th, one of the great catastrophes, in my opinion, the single greatest military catastrophe in the history of our country; worse than Pearl Harbor because you take a look at what’s happened, and citizens were attacked, as opposed to the military being attacked — one of the true great catastrophes.',\n",
       " 'And then there’s ISIS.',\n",
       " 'I have a simple message for them.',\n",
       " 'Their days are numbered.',\n",
       " 'I won’t tell them where and I won’t tell them how.',\n",
       " 'We must...\\n... we must as a nation be more unpredictable.',\n",
       " 'We are totally predictable.',\n",
       " 'We tell everything.',\n",
       " 'We’re sending troops.',\n",
       " 'We tell them.',\n",
       " 'We’re sending something else.',\n",
       " 'We have a news conference.',\n",
       " 'We have to be unpredictable.',\n",
       " 'And we have to be unpredictable starting now.',\n",
       " 'But they’re going to be gone.',\n",
       " 'ISIS will be gone if I’m elected president.',\n",
       " 'And they’ll be gone quickly.',\n",
       " 'They will be gone very, very quickly.',\n",
       " 'Secondly, we have to rebuild our military and our economy.',\n",
       " 'The Russians and Chinese have rapidly expanded their military capability, but look at what’s happened to us.',\n",
       " 'Our nuclear weapons arsenal, our ultimate deterrent, has been allowed to atrophy and is desperately in need of modernization and renewal.',\n",
       " 'And it has to happen immediately.',\n",
       " 'Our active duty armed forces have shrunk from 2 million in 1991 to about 1.3 million today.',\n",
       " 'The Navy has shrunk from over 500 ships to 272 ships during this same period of time.',\n",
       " 'The Air Force is about one-third smaller than 1991.',\n",
       " 'Pilots flying B-52s in combat missions today.',\n",
       " 'These planes are older than virtually everybody in this room.',\n",
       " 'And what are we doing about this?',\n",
       " 'President Obama has proposed a 2017 defense budget that in real dollars, cuts nearly 25 percent from what we were spending in 2011.',\n",
       " 'Our military is depleted and we’re asking our generals and military leaders to worry about global warming.',\n",
       " 'We will spend what we need to rebuild our military.',\n",
       " 'It is the cheapest, single investment we can make.',\n",
       " 'We will develop, build and purchase the best equipment known to mankind.',\n",
       " 'Our military dominance must be unquestioned, and I mean unquestioned, by anybody and everybody.',\n",
       " 'But we will look for savings and spend our money wisely.',\n",
       " 'In this time of mounting debt, right now we have so much debt that nobody even knows how to address the problem.',\n",
       " 'But I do.',\n",
       " 'No one dollar can be wasted.',\n",
       " 'Not one single dollar can we waste.',\n",
       " 'We’re also going to have to change our trade, immigration and economic policies to make our economy strong again.',\n",
       " 'And to put Americans first again.',\n",
       " 'This will ensure that our own workers, right here in America, get the jobs and higher pay that will grow our tax revenues, increase our economic might as a nation, make us strong financially again.',\n",
       " 'So, so important.',\n",
       " 'We need to think smart about areas where our technological superiority, and nobody comes close, gives us an edge.',\n",
       " 'This includes 3D printing, artificial intelligence and cyber warfare.',\n",
       " 'A great country also takes care of its warriors.',\n",
       " 'Our commitment to them is absolute, and I mean absolute.',\n",
       " 'A Trump administration will give our servicemen and women the best equipment and support in the world when they serve and where they serve.',\n",
       " 'And the best care in the world when they return as veterans and they come back home to civilian life.',\n",
       " 'Our veterans...\\nOur veterans have not been treated fairly or justly.',\n",
       " 'These are our great people and we must treat them fairly.',\n",
       " 'We must even treat them really, really well and that will happen under the Trump administration.',\n",
       " 'Finally, we must develop a foreign policy based on American interests.',\n",
       " 'Businesses do not succeed when they lose sight of their core interests and neither do countries.',\n",
       " 'Look at what happened in the 1990s.',\n",
       " 'Our embassies in Kenya and Tanzania — and this was a horrible time for us — were attacked.',\n",
       " 'and 17 brave sailors were killed on the U.S.S.',\n",
       " 'Cole.',\n",
       " 'And what did we do?',\n",
       " 'It seemed we put more effort into adding China into the World Trade organization, which has been a total disaster for the United States.',\n",
       " 'Frankly, we spent more time on that than we did in stopping Al Qaeda.',\n",
       " 'We even had an opportunity to take out Osama bin Laden and we didn’t do it\\nAnd then we got hit at the World Trade Center and the Pentagon.',\n",
       " 'Again, the worst attack on our country in its history.',\n",
       " 'Our foreign policy goals must be based on America’s core national security interests.',\n",
       " 'And the following will be my priorities.',\n",
       " 'In the Middle East our goals must be, and I mean must be, to defeat terrorists and promote regional stability, not radical change.',\n",
       " 'We need to be clearsighted about the groups that will never be anything other than enemies.',\n",
       " 'And believe me, we have groups that no matter what you do, they will be the enemy.',\n",
       " ': We have to be smart enough to recognize who those groups are, who those people are, and not help them.',\n",
       " 'And we must only be generous to those that prove they are indeed our friends.',\n",
       " 'We desire to live peacefully and in friendship with Russia and China.',\n",
       " 'We have serious differences with these two nations, and must regard them with open eyes, but we are not bound to be adversaries.',\n",
       " 'We should seek common ground based on shared interests.',\n",
       " 'Russia, for instance, has also seen the horror of Islamic terrorism.',\n",
       " 'I believe an easing of tensions, and improved relations with Russia from a position of strength only is possible, absolutely possible.',\n",
       " 'Common sense says this cycle, this horrible cycle of hostility must end and ideally will end soon.',\n",
       " 'Good for both countries.',\n",
       " 'Some say the Russians won’t be reasonable.',\n",
       " 'I intend to find out.',\n",
       " 'If we can’t make a deal under my administration, a deal that’s great — not good, great — for America, but also good for Russia, then we will quickly walk from the table.',\n",
       " 'It’s as simple as that.',\n",
       " 'We’re going to find out.',\n",
       " 'Fixing our relations with China is another important step — and really toward creating an even more prosperous period of time.',\n",
       " 'China respects strength and by letting them take advantage of us economically, which they are doing like never before, we have lost all of their respect.',\n",
       " 'We have a massive trade deficit with China, a deficit that we have to find a way quickly, and I mean quickly, to balance.',\n",
       " 'A strong and smart America is an America that will find a better friend in China, better than we have right now.',\n",
       " 'Look at what China is doing in the South China Sea.',\n",
       " 'They’re not supposed to be doing it.',\n",
       " 'No respect for this country or this president.',\n",
       " 'We can both benefit or we can both go our separate ways.',\n",
       " 'If need be, that’s what’s going to have to happen.',\n",
       " 'After I’m elected president, I will also call for a summit with our NATO allies and a separate summit with our Asian allies.',\n",
       " 'In these summits, we will not only discuss a rebalancing of financial commitments, but take a fresh look at how we can adopt new strategies for tackling our common challenges.',\n",
       " 'For instance, we will discuss how we can upgrade NATO’s outdated mission and structure, grown out of the Cold War to confront our shared challenges, including migration and Islamic terrorism.',\n",
       " 'I will not hesitate to deploy military force when there is no alternative.',\n",
       " 'But if America fights, it must only fight to win.',\n",
       " 'I will never sent our finest into battle unless necessary, and I mean absolutely necessary, and will only do so if we have a plan for victory with a capital V.\\nOur goal is peace and prosperity, not war and destruction.',\n",
       " 'The best way to achieve those goals is through a disciplined, deliberate and consistent foreign policy.',\n",
       " 'With President Obama and Secretary Clinton we’ve had the exact opposite — a reckless, rudderless and aimless foreign policy, one that has blazed the path of destruction in its wake.',\n",
       " 'After losing thousands of lives and spending trillions of dollars, we are in far worst shape in the Middle East than ever, ever before.',\n",
       " 'I challenge anyone to explain the strategic foreign policy vision of Obama/Clinton.',\n",
       " 'It has been a complete and total disaster.',\n",
       " 'I will also be prepared to deploy America’s economic resources.',\n",
       " 'Financial leverage and sanctions can be very, very persuasive, but we need to use them selectively and with total determination.',\n",
       " 'Our power will be used if others do not play by the rules.',\n",
       " 'In other words, if they do not treat us fairly.',\n",
       " 'Our friends and enemies must know that if I draw a line in the sand, I will enforce that line in the sand.',\n",
       " 'Believe me.',\n",
       " 'However, unlike other candidates for the presidency, war and aggression will not be my first instinct.',\n",
       " 'You cannot have a foreign policy without diplomacy.',\n",
       " 'A superpower understands that caution and restraint are really truly signs of strength.',\n",
       " 'Although not in government service, I was totally against the war in Iraq, very proudly, saying for many years that it would destabilize the Middle East.',\n",
       " 'Sadly, I was correct, and the biggest beneficiary has been has been Iran, who is systematically taking over Iraq and gaining access to their very rich oil reserves, something it has wanted to do for decades.',\n",
       " 'And now, to top it off, we have ISIS.',\n",
       " 'My goal is to establish a foreign policy that will endure for several generations.',\n",
       " 'That’s why I also look and have to look for talented experts with approaches and practical ideas, rather than surrounding myself with those who have perfect résumés but very little to brag about except responsibility for a long history of failed policies and continued losses at war.',\n",
       " 'We have to look to new people.',\n",
       " 'We have to look to new people because many of the old people frankly don’t know what they’re doing, even though they may look awfully good writing in The New York Times or being watched on television.',\n",
       " 'Finally, I will work with our allies to reinvigorate Western values and institutions.',\n",
       " 'Instead of trying to spread universal values that not everybody shares or wants, we should understand that strengthening and promoting Western civilization and its accomplishments will do more to inspire positive reforms around the world than military interventions.',\n",
       " 'These are my goals as president.',\n",
       " 'I will seek a foreign policy that all Americans, whatever their party, can support, so important, and which our friends and allies will respect and totally welcome.',\n",
       " 'The world must know that we do not go abroad in search of enemies, that we are always happy when old enemies become friends and when old friends become allies, that’s what we want.',\n",
       " 'We want them to be our allies.',\n",
       " 'We want the world to be — we want to bring peace to the world.',\n",
       " 'Too much destruction out there, too many destructive weapons.',\n",
       " 'The power of weaponry is the single biggest problem that we have today in the world.',\n",
       " 'To achieve these goals, Americans must have confidence in their country and its leadership.',\n",
       " 'Again, many Americans must wonder why we our politicians seem more interested in defending the borders of foreign countries than in defending their own.',\n",
       " 'Americans.',\n",
       " 'Americans must know that we’re putting the American people first again on trade.',\n",
       " 'So true.',\n",
       " 'On trade, on immigration, on foreign policy.',\n",
       " 'The jobs, incomes and security of the American worker will always be my first priority.',\n",
       " 'No country has ever prospered that failed to put its own interests first.',\n",
       " 'Both our friends and our enemies put their countries above ours and we, while being fair to them, must start doing the same.',\n",
       " 'We will no longer surrender this country or its people to the false song of globalism.',\n",
       " 'The nation-state remains the true foundation for happiness and harmony.',\n",
       " 'I am skeptical of international unions that tie us up and bring America down and will never enter.',\n",
       " 'And under my administration, we will never enter America into any agreement that reduces our ability to control our own affairs.',\n",
       " 'NAFTA, as an example, has been a total disaster for the United States and has emptied our states — literally emptied our states of our manufacturing and our jobs.',\n",
       " 'And I’ve just gotten to see it.',\n",
       " 'I’ve toured Pennsylvania.',\n",
       " 'I’ve toured New York.',\n",
       " 'I’ve toured so many of the states.',\n",
       " 'They have been cleaned out.',\n",
       " 'Their manufacturing is gone.',\n",
       " 'Never again, only the reverse — and I have to say this strongly — never again; only the reverse will happen.',\n",
       " 'We will keep our jobs and bring in new ones.',\n",
       " 'There will be consequences for the companies that leave the United States only to exploit it later.',\n",
       " 'They fire the people.',\n",
       " 'They take advantage of the United States.',\n",
       " 'There will be consequences for those companies.',\n",
       " 'Never again.',\n",
       " 'Under a Trump administration, no American citizen will ever again feel that their needs come second to the citizens of a foreign country.',\n",
       " 'I will view as president the world through the clear lens of American interests.',\n",
       " 'I will be America’s greatest defender and most loyal champion.',\n",
       " 'We will not apologize for becoming successful again, but will instead embrace the unique heritage that makes us who we are.',\n",
       " 'The world is most peaceful and most prosperous when America is strongest.',\n",
       " 'America will continue and continue forever to play the role of peacemaker.',\n",
       " 'We will always help save lives and indeed humanity itself, but to play the role, we must make America strong again.',\n",
       " 'And always — always, always, we must make, and we have to look at it from every angle, and we have no choice, we must make America respected again.',\n",
       " 'We must make America truly wealthy again.',\n",
       " 'And we must — we have to and we will make America great again.',\n",
       " 'And if we do that — and if we do that, perhaps this century can be the most peaceful and prosperous the world has ever, ever known.',\n",
       " 'Thank you very much, everybody.',\n",
       " 'I appreciate it.',\n",
       " 'Thank you.',\n",
       " 'SPEECH 3\\nA hand with little fingers coming out of a stem.',\n",
       " 'Like, little.',\n",
       " 'Look at my hands.',\n",
       " 'They’re fine.',\n",
       " 'Nobody other than Graydon Carter years ago used to use that.',\n",
       " 'My hands are normal hands.',\n",
       " 'During a debate, he was losing, and he said, \"Oh, he has small hands and therefore, you know what that means.\"',\n",
       " 'This was not me.',\n",
       " 'This was Rubio that said, \"He has small hands and you know what that means.\"',\n",
       " 'Okay?',\n",
       " 'So, he started it.',\n",
       " 'So, what I said a couple of days later ... and what happened is I was on line shaking hands with supporters, and one of supporters got up and he said, \"Mr. Trump, you have strong hands.',\n",
       " 'You have good-sized hands.\"',\n",
       " 'And then another one would say, \"You have great hands, Mr. Trump, I had no idea.\"',\n",
       " 'I said, \"What do you mean?\"',\n",
       " 'He said, \"I thought you were like deformed, and I thought you had small hands.\"',\n",
       " 'I had fifty people ... Is that a correct statement?',\n",
       " 'I mean people were writing, \"How are Mr. Trump’s hands?\"',\n",
       " 'My hands are fine.',\n",
       " 'You know, my hands are normal.',\n",
       " 'Slightly large, actually.',\n",
       " 'In fact, I buy a slightly smaller than large glove, okay?',\n",
       " 'No, but I did this because everybody was saying to me, \"Oh, your hands are very nice.',\n",
       " 'They are normal.\"',\n",
       " 'So Rubio, in a debate, said, because he had nothing else to say ... now I was hitting him pretty hard.',\n",
       " 'He wanted to do his Don Rickles stuff and it didn’t work out.',\n",
       " 'Obviously, it didn’t work too well.',\n",
       " 'But one of the things he said was \"He has small hands and therefore, you know what that means, he has small something else.\"',\n",
       " 'You can look it up.',\n",
       " 'I didn’t say it.',\n",
       " 'I don’t want people to go around thinking that I have a problem.',\n",
       " 'I’m telling you, Ruth, I had so many people.',\n",
       " 'I would say 25, 30 people would tell me ... every time I’d shake people’s hand, \"Oh, you have nice hands.\"',\n",
       " 'Why shouldn’t I?',\n",
       " 'And, by the way, by saying that I solved the problem.',\n",
       " 'Nobody questions ...',\n",
       " 'I even held up my hands, and said, \"Look, take a look at that hand.\"',\n",
       " 'I don’t know if it was presidential, honestly, whether it is or not.',\n",
       " 'He said, ‘Donald Trump has small hands and therefore he has small something else.’ I didn’t say that.',\n",
       " 'And all I did is when he failed, when he was failing, when he was, when Christie made him look bad, I gave him the– a little recap and I said, and I said, and I had this big strong powerful hand ready to grab him, because I thought he was going to faint.',\n",
       " 'And everybody took it fine.',\n",
       " 'Whether it was presidential or not I can’t tell you.',\n",
       " 'I can just say that what he said was a lie.',\n",
       " 'And everybody, they wanted to do stories on my hands; after I said that, they never did.',\n",
       " 'And then I held up the hand, I showed people the hand.',\n",
       " 'You know, when I’ve got a big audience.',\n",
       " 'So yeah, I think it’s not a question of presidential ...',\n",
       " 'SPEECH 4\\n  Oh boy.',\n",
       " 'We love Nevada.',\n",
       " 'We love Nevada.',\n",
       " 'Thank you.',\n",
       " 'Thank you.',\n",
       " 'Oh this is a great place.',\n",
       " 'Thank you very much.',\n",
       " 'Great evening.',\n",
       " 'We will be celebrating for a long time tonight.',\n",
       " 'Have a good time.',\n",
       " 'Have a good time.',\n",
       " 'You know we weren’t expecting—a couple of months ago, we weren’t expecting to win this one, you know that, right?',\n",
       " 'We weren’t.',\n",
       " 'Of course if you listen to the pundits, we weren’t expected to win too much, and now we’re winning, winning, winning the country.',\n",
       " 'And soon the country’s going to start winning, winning, winning.',\n",
       " 'So I want to thank the volunteers.',\n",
       " 'They’ve been unbelievable.',\n",
       " 'These people, they work like endlessly, endlessly.',\n",
       " 'We’re not going to forget it.',\n",
       " 'And we’ve had some great numbers coming out of Texas, and amazing numbers coming out of Tennessee and Georgia and Arkansas and then in a couple of weeks later Florida.',\n",
       " 'We love Florida so.',\n",
       " 'We’re going to do very well in Ohio.',\n",
       " 'We’re beating the governor.',\n",
       " 'It’s always nice to be beating the governor.',\n",
       " 'And Michigan—the whole thing.',\n",
       " 'It’s going to be an amazing two months.',\n",
       " 'We might not even need the two months, folks, to be honest.',\n",
       " 'So tonight we had 45 to 46%, and tomorrow you’d hear them say, you know, if they could just take the other candidates and add them up, and if you could add them up because you know the other candidates amount to 55%.',\n",
       " 'So if they could—they keep forgetting that when people drop out, we’re going to get a lot of votes.',\n",
       " 'You know they keep forgetting.',\n",
       " 'So I want to begin by thanking my boys, Eric has been all over the place making speeches.',\n",
       " 'He’s getting better than me so I’m a little jealous.',\n",
       " 'And Don went to _____, you were all over, right?',\n",
       " 'He loves the rifle stuff.',\n",
       " 'This is serious rifle.',\n",
       " 'This is serious NRA, both of them, both of them.',\n",
       " 'We love the Second Amendment folks.',\n",
       " 'Nobody loves it more than us, so just remember that.',\n",
       " 'And Corey and Hope, the staff, the whole group, and Charles and Dan and what a group we have.',\n",
       " 'I want to just thank a couple of friends of mine that are here, the owner of this incredible hotel, Mr. and Mrs. Phil Ruffin, stand up.',\n",
       " 'Great guy.',\n",
       " 'Phil said, \"Donald,\"—like for the last three months he’s driving me crazy, he said—\"Donald, I want to put $10 million into your campaign.\"',\n",
       " 'I said, \"Phil I don’t want your money.',\n",
       " 'I don’t want to do it.',\n",
       " 'I’m self funding.\"',\n",
       " 'Every time I see him.',\n",
       " 'It’s hard for me to turn down money because that’s what I’ve done in my whole life.',\n",
       " 'I grab and grab and grab.',\n",
       " 'You know I get greedy.',\n",
       " 'I want money, money.',\n",
       " 'I’ll tell you what we’re going to do, right?',\n",
       " 'We get greedy, right?',\n",
       " 'Now we’re going to get greedy for the United States.',\n",
       " 'We’re going to grab and grab and grab.',\n",
       " 'We’re going to bring in so much money and so much everything.',\n",
       " 'We’re going to make America great again, folks, I’m telling you folks, we’re going to make America great again.',\n",
       " 'And another great friend of mine, someone respected by everybody, a great friend of Phil too—Mr.',\n",
       " 'and Mrs. Steve Wynn.',\n",
       " 'Stand up, Steve.',\n",
       " 'Stand up.',\n",
       " 'Two great people.',\n",
       " 'Steve is always calling.',\n",
       " 'He’s always got advice, right Steve?',\n",
       " '\"Donald I think you should do this and that.\"',\n",
       " 'His advice I like to listen to, I’ll be honest.',\n",
       " 'So Phil and Steve and families, we appreciate it.',\n",
       " 'You’ve been great friends.',\n",
       " 'Thank you, thank you.',\n",
       " 'So this was very exciting tonight.',\n",
       " 'But I’ll tell you it looks like we won by a lot evangelicals.',\n",
       " 'I love evangelicals, and I have to tell you pastor [Robert] Jeffress has been so incredible on television and elsewhere.',\n",
       " 'He has been great.',\n",
       " 'And as you know Liberty University—do we love Liberty University?',\n",
       " 'Huh?',\n",
       " 'Jerry Falwell Jr., an unbelievable guy, and he has been with us and with us from the beginning, and I want to thank Jerry and his family.',\n",
       " 'It’s been amazing, the relationship.',\n",
       " 'So we won the evangelicals.',\n",
       " 'We won with young.',\n",
       " 'We won with old.',\n",
       " 'We won with highly educated.',\n",
       " 'We won with poorly educated.',\n",
       " 'I love the poorly educated.',\n",
       " 'We’re the smartest people, we’re the most loyal people, and you know what I’m happy about?',\n",
       " 'Because I’ve been saying it for a long time.',\n",
       " '46% were the Hispanics—46%, No.',\n",
       " '1 one with Hispanics.',\n",
       " 'I’m really happy about that.',\n",
       " 'So I’m very proud of you, this is an amazing night.',\n",
       " 'I love the country, I love the country.',\n",
       " 'We’re going in the wrong direction.',\n",
       " 'We’re going to keep—as you know Gitmo, we’re keeping that open, and we’re going to load it up with bad dudes.',\n",
       " 'We’re going to load it up w a lot of bad dudes out there.',\n",
       " 'We’re going to have our borders nice and strong.',\n",
       " 'We’re going to build the wall, you know that.',\n",
       " 'We’re going to build the wall.',\n",
       " 'And I have a lot of respect from Mexico, and you just heard we won Hispanics.',\n",
       " 'But let me tell you Mexico is going to pay for the wall, right?',\n",
       " 'It’s going to happen.',\n",
       " 'It’s going to happen.',\n",
       " 'They know it.',\n",
       " 'I know it.',\n",
       " 'We all know it.',\n",
       " 'We have a tremendous deficit.',\n",
       " 'We have a trade deficit with Mexico.',\n",
       " 'They’ll pay for the wall.',\n",
       " 'They’ll be very happy about it.',\n",
       " 'Believe me.',\n",
       " 'I’ll talk to them.',\n",
       " 'They’re going to be very, very thrilled.',\n",
       " 'They’re going to be thrilled to be paying for the wall.',\n",
       " 'We’re going to be the smart people.',\n",
       " 'We’re not going to be the people that get pushed around all over the place.',\n",
       " 'We’re going to be the smart people.',\n",
       " 'You’re going to be proud of your president, and you’re going to be even prouder of your country, OK?',\n",
       " 'So tonight folks, this was a great evening.',\n",
       " 'I love this place.',\n",
       " 'I love this state.',\n",
       " 'I love Las Vegas.',\n",
       " 'I have spent and invested so much money over here.',\n",
       " 'Trump International Hotel—I keep telling Steve we have the best hotel in Las Vegas.',\n",
       " 'He’s fighting me all the time.',\n",
       " 'But that’s OK.',\n",
       " 'But I just want to say it’s a great state, and they have great people.',\n",
       " 'And I was so proud.',\n",
       " 'You know, I went to caucus.',\n",
       " 'I was all over the place tonight.',\n",
       " 'The people are amazing.',\n",
       " 'The enthusiasm, it was unbelievable to see.',\n",
       " 'The people of this country are absolutely amazing.',\n",
       " 'I love you folks very much.',\n",
       " 'Remember: Make America great again.',\n",
       " 'We’re going to do it, and it’s going to happen fast.',\n",
       " 'Thank you very much everybody.',\n",
       " 'We love you.',\n",
       " 'We love you.',\n",
       " 'SPEECH 5\\nWow.',\n",
       " 'Whoa.',\n",
       " 'That is some group of people.',\n",
       " 'Thousands.',\n",
       " 'So nice, thank you very much.',\n",
       " 'That’s really nice.',\n",
       " 'Thank you.',\n",
       " 'It’s great to be at Trump Tower.',\n",
       " 'It’s great to be in a wonderful city, New York.',\n",
       " 'And it’s an honor to have everybody here.',\n",
       " 'This is beyond anybody’s expectations.',\n",
       " 'There’s been no crowd like this.',\n",
       " 'And, I can tell, some of the candidates, they went in.',\n",
       " 'They didn’t know the air-conditioner didn’t work.',\n",
       " 'They sweated like dogs.',\n",
       " 'They didn’t know the room was too big, because they didn’t have anybody there.',\n",
       " 'How are they going to beat ISIS?',\n",
       " 'I don’t think it’s gonna happen.',\n",
       " 'Our country is in serious trouble.',\n",
       " 'We don’t have victories anymore.',\n",
       " 'We used to have victories, but we don’t have them.',\n",
       " 'When was the last time anybody saw us beating, let’s say, China in a trade deal?',\n",
       " 'They kill us.',\n",
       " 'I beat China all the time.',\n",
       " 'All the time.',\n",
       " 'When did we beat Japan at anything?',\n",
       " 'They send their cars over by the millions, and what do we do?',\n",
       " 'When was the last time you saw a Chevrolet in Tokyo?',\n",
       " 'It doesn’t exist, folks.',\n",
       " 'They beat us all the time.',\n",
       " 'When do we beat Mexico at the border?',\n",
       " 'They’re laughing at us, at our stupidity.',\n",
       " 'And now they are beating us economically.',\n",
       " 'They are not our friend, believe me.',\n",
       " 'But they’re killing us economically.',\n",
       " 'The U.S. has become a dumping ground for everybody else’s problems.',\n",
       " 'SPEECH 6\\nThank you.',\n",
       " 'It’s true, and these are the best and the finest.',\n",
       " 'When Mexico sends its people, they’re not sending their best.',\n",
       " 'They’re not sending you.',\n",
       " 'They’re not sending you.',\n",
       " 'They’re sending people that have lots of problems, and they’re bringing those problems with us.',\n",
       " 'They’re bringing drugs.',\n",
       " 'They’re bringing crime.',\n",
       " 'They’re rapists.',\n",
       " 'And some, I assume, are good people.',\n",
       " 'oh And it only makes common sense.',\n",
       " 'It only makes common sense.',\n",
       " 'They’re sending us not the right people.',\n",
       " 'It’s coming from more than Mexico.',\n",
       " 'It’s coming from all over South and Latin America, and it’s coming probably — probably — from the Middle East.',\n",
       " 'But we don’t know.',\n",
       " 'Because we have no protection and we have no competence, we don’t know what’s happening.',\n",
       " 'And it’s got to stop and it’s got to stop fast.',\n",
       " 'Islamic terrorism is eating up large portions of the Middle East.',\n",
       " 'They’ve become rich.',\n",
       " 'I’m in competition with them.',\n",
       " 'They just built a hotel in Syria.',\n",
       " 'Can you believe this?',\n",
       " 'They built a hotel.',\n",
       " 'When I have to build a hotel, I pay interest.',\n",
       " 'They don’t have to pay interest, because they took the oil that, when we left Iraq, I said we should’ve taken.',\n",
       " 'So now ISIS has the oil, and what they don’t have, Iran has.',\n",
       " 'And in 19 — and I will tell you this, and I said it very strongly, years ago, I said — and I love the military, and I want to have the strongest military that we’ve ever had, and we need it more now than ever.',\n",
       " 'But I said, \"Don’t hit Iraq,\" because you’re going to totally destabilize the Middle East.',\n",
       " 'Iran is going to take over the Middle East, Iran and somebody else will get the oil, and it turned out that Iran is now taking over Iraq.',\n",
       " 'Think of it.',\n",
       " 'Iran is taking over Iraq, and they’re taking it over big league.',\n",
       " 'We spent $2 trillion in Iraq, $2 trillion.',\n",
       " 'We lost thousands of lives, thousands in Iraq.',\n",
       " 'We have wounded soldiers, who I love, I love — they’re great — all over the place, thousands and thousands of wounded soldiers.',\n",
       " 'And we have nothing.',\n",
       " 'We can’t even go there.',\n",
       " 'We have nothing.',\n",
       " 'And every time we give Iraq equipment, the first time a bullet goes off in the air, they leave it.',\n",
       " 'Last week, I read 2,300 Humvees — these are big vehicles — were left behind for the enemy.',\n",
       " '2,000?',\n",
       " 'You would say maybe two, maybe four?',\n",
       " '2,300 sophisticated vehicles, they ran, and the enemy took them.',\n",
       " 'Last quarter, it was just announced our gross domestic product — a sign of strength, right?',\n",
       " 'But not for us.',\n",
       " 'It was below zero.',\n",
       " 'Whoever heard of this?',\n",
       " 'It’s never below zero.',\n",
       " 'Our labor participation rate was the worst since 1978.',\n",
       " 'But think of it, GDP below zero, horrible labor participation rate.',\n",
       " 'And our real unemployment is anywhere from 18 to 20 percent.',\n",
       " 'Don’t believe the 5.6.',\n",
       " 'Don’t believe it.',\n",
       " 'That’s right.',\n",
       " 'A lot of people up there can’t get jobs.',\n",
       " 'They can’t get jobs, because there are no jobs, because China has our jobs and Mexico has our jobs.',\n",
       " 'They all have jobs.',\n",
       " 'But the real number, the real number is anywhere from 18 to 19 and maybe even 21 percent, and nobody talks about it, because it’s a statistic that’s full of nonsense.',\n",
       " 'Our enemies are getting stronger and stronger by the way, and we as a country are getting weaker.',\n",
       " 'Even our nuclear arsenal doesn’t work.',\n",
       " 'It came out recently they have equipment that is 30 years old.',\n",
       " 'They don’t know if it worked.',\n",
       " 'And I thought it was horrible when it was broadcast on television, because boy, does that send signals to Putin and all of the other people that look at us and they say, \"That is a group of people, and that is a nation that truly has no clue.',\n",
       " 'They don’t know what they’re doing.',\n",
       " 'They don’t know what they’re doing.\"',\n",
       " 'We have a disaster called the big lie: Obamacare.',\n",
       " 'Obamacare.',\n",
       " 'Yesterday, it came out that costs are going for people up 29, 39, 49, and even 55 percent, and deductibles are through the roof.',\n",
       " 'You have to be hit by a tractor, literally, a tractor, to use it, because the deductibles are so high, it’s virtually useless.',\n",
       " 'It’s virtually useless.',\n",
       " 'It is a disaster.TRUMP: And remember the $5 billion Web site?',\n",
       " '$5 billion we spent on a Web site, and to this day it doesn’t work.',\n",
       " 'A $5 billion Web site.',\n",
       " 'If and when the Vatican is attacked by ISIS, which as everyone knows is ISIS’s ultimate trophy, I can promise you that the Pope would have only wished and prayed that Donald Trump would have been President because this would not have happened.',\n",
       " 'ISIS would have been eradicated unlike what is happening now with our all talk, no action politicians.',\n",
       " 'The Mexican government and its leadership has made many disparaging remarks about me to the Pope, because they want to continue to rip off the United States, both on trade and at the border, and they understand I am totally wise to them.',\n",
       " 'The Pope only heard one side of the story - he didn’t see the crime, the drug trafficking and the negative economic impact the current policies have on the United States.',\n",
       " 'He doesn’t see how Mexican leadership is outsmarting President Obama and our leadership in every aspect of negotiation.',\n",
       " 'For a religious leader to question a person’s faith is disgraceful.',\n",
       " 'I am proud to be a Christian and as President I will not allow Christianity to be consistently attacked and weakened, unlike what is happening now, with our current President.',\n",
       " 'No leader, especially a religious leader, should have the right to question another man’s religion or faith.',\n",
       " 'They are using the Pope as a pawn and they should be ashamed of themselves for doing so, especially when so many lives are involved and when illegal immigration is so rampant.',\n",
       " 'I have so many Web sites, I have them all over the place.',\n",
       " 'I hire people, they do a Web site.',\n",
       " 'It costs me $3.',\n",
       " '$5 billion Web site.',\n",
       " 'Well, you need somebody, because politicians are all talk, no action.',\n",
       " 'Nothing’s gonna get done.',\n",
       " 'They will not bring us — believe me — to the promised land.',\n",
       " 'They will not.',\n",
       " 'As an example, I’ve been on the circuit making speeches, and I hear my fellow Republicans.',\n",
       " 'And they’re wonderful people.',\n",
       " 'I like them.',\n",
       " 'They all want me to support them.',\n",
       " 'They don’t know how to bring it about.',\n",
       " 'They come up to my office.',\n",
       " 'I’m meeting with three of them in the next week.',\n",
       " 'And they don’t know — \"Are you running?',\n",
       " 'Are you not running?',\n",
       " 'Could we have your support?',\n",
       " 'What do we do?',\n",
       " 'How do we do it?\"',\n",
       " 'I like them.',\n",
       " ...]"
      ]
     },
     "execution_count": 52,
     "metadata": {},
     "output_type": "execute_result"
    }
   ],
   "source": [
    "text = text.replace('\\ufeff', '')\n",
    "new_text = re.sub('[\\n]+','\\n', text)\n",
    "sent_text = sent_tokenizer.tokenize(new_text)\n",
    "sent_text"
   ]
  },
  {
   "cell_type": "code",
   "execution_count": 59,
   "metadata": {
    "collapsed": false
   },
   "outputs": [],
   "source": [
    "pattern = r'''(?x)  # set flag to allow verbose regexps\n",
    " (?:[A-Z]\\.)+[A-Z]*        # abbreviations, e.g. U.S.A.\n",
    "| [a-zA-Z]+(?:[-'][a-zA-Z]+)*            # words with optional internal hyphens or apostrophes         \n",
    "| \\$?\\d+(?:\\.\\d+)?%?     # currency (dollars only, e.g. $12.40, $33, $.9) and digits \n",
    "| [+/\\-@&*.,;\"'?():\\-_`] #special symbols\n",
    "'''\n",
    "\n",
    "Tokens = nltk.regexp_tokenize(new_text,pattern)\n",
    "# Tokens"
   ]
  },
  {
   "cell_type": "markdown",
   "metadata": {},
   "source": [
    "**Compute word counts.** Now compute your frequency distribution using a FreqDist over the words. Let's not do lowercasing or stemming yet.  You can run this over the whole collection together, or sentence by sentence. Write the code for computing the FreqDist below and show the most common 20 words that result."
   ]
  },
  {
   "cell_type": "code",
   "execution_count": 9,
   "metadata": {
    "collapsed": false
   },
   "outputs": [
    {
     "data": {
      "text/plain": [
       "[('.', 15848),\n",
       " (',', 8770),\n",
       " ('I', 6155),\n",
       " ('the', 5187),\n",
       " ('to', 5171),\n",
       " ('and', 3531),\n",
       " ('a', 3350),\n",
       " ('of', 2803),\n",
       " ('it', 2682),\n",
       " ('s', 2648),\n",
       " ('you', 2480),\n",
       " ('that', 2416),\n",
       " ('have', 2121),\n",
       " ('we', 2093),\n",
       " ('they', 1930),\n",
       " ('re', 1928),\n",
       " ('going', 1922),\n",
       " ('in', 1882),\n",
       " ('t', 1879),\n",
       " ('And', 1643)]"
      ]
     },
     "execution_count": 9,
     "metadata": {},
     "output_type": "execute_result"
    }
   ],
   "source": [
    "mp_freqdist = nltk.FreqDist(Tokens)  # compute the frequency distribution\n",
    "mp_freqdist.most_common(20) "
   ]
  },
  {
   "cell_type": "markdown",
   "metadata": {},
   "source": [
    "**Normalize the text.** Now adjust the output by normalizing the text: things you can try include removing stopwords, removing very short words, lowercasing the text, improving the tokenization, and/or doing other adjustments to bring content words higher up in the results.  The goal is to dig deeper into the collection to find interesting but relatively frequent words.  Show the code for these changes below.  "
   ]
  },
  {
   "cell_type": "code",
   "execution_count": 60,
   "metadata": {
    "collapsed": false
   },
   "outputs": [],
   "source": [
    "punctuations = list(string.punctuation)\n",
    "modified_token = [i for i in Tokens if i not in punctuations and i.lower() not in stopwords.words('english')]\n",
    "new_token = [i for i in modified_token if len(i) >= 5]\n",
    "# new_token_long = [i for i in modified_token if len(i) >= 7]\n",
    "# new_token\n",
    "# new_token_long"
   ]
  },
  {
   "cell_type": "markdown",
   "metadata": {},
   "source": [
    "**Show adjusted word counts.** Show the most frequent 20 words that result from these adjustments."
   ]
  },
  {
   "cell_type": "code",
   "execution_count": 11,
   "metadata": {
    "collapsed": false
   },
   "outputs": [
    {
     "data": {
      "text/plain": [
       "[('going', 1922),\n",
       " ('people', 1215),\n",
       " ('great', 619),\n",
       " ('think', 574),\n",
       " ('country', 504),\n",
       " ('money', 375),\n",
       " ('right', 361),\n",
       " ('really', 312),\n",
       " ('would', 279),\n",
       " ('never', 253),\n",
       " ('Trump', 248),\n",
       " ('thing', 233),\n",
       " ('things', 227),\n",
       " ('China', 199),\n",
       " ('world', 193),\n",
       " ('years', 192),\n",
       " ('America', 190),\n",
       " ('million', 186),\n",
       " ('happen', 183),\n",
       " ('something', 181)]"
      ]
     },
     "execution_count": 11,
     "metadata": {},
     "output_type": "execute_result"
    }
   ],
   "source": [
    "freqdist = nltk.FreqDist(new_token)  # compute the frequency distribution\n",
    "freqdist.most_common(20)"
   ]
  },
  {
   "cell_type": "markdown",
   "metadata": {},
   "source": [
    "**Creating a table.**\n",
    "Python provides an easy way to line columns up in a table.  You can specify a width for a string such as %6s, producing a string that is padded to width 6. It is right-justified by default, but a minus sign in front of it switches it to left-justified, so -3d% means left justify an integer with width 3.  *AND* if you don't know the width in advance, you can make it a variable by using an asterisk rather than a number before the '\\*s%' or the '-\\*d%'.  Check out this example (this is just fyi):"
   ]
  },
  {
   "cell_type": "code",
   "execution_count": 173,
   "metadata": {
    "collapsed": false
   },
   "outputs": [
    {
     "name": "stdout",
     "output_type": "stream",
     "text": [
      "Info type        Value           \n",
      "number of words  100000          \n"
     ]
    }
   ],
   "source": [
    "print ('%-16s' % 'Info type', '%-16s' % 'Value')\n",
    "print ('%-16s' % 'number of words', '%-16d' % 100000)"
   ]
  },
  {
   "cell_type": "markdown",
   "metadata": {},
   "source": [
    "**Word Properties Table** Next there is a table of word properties, which you should compute (skip unique word stems, since we will do stemming in class on Wed).  Make a table that prints out:\n",
    "1. number of words\n",
    "2. number of unique words\n",
    "3. average word length\n",
    "4. longest word\n",
    "\n",
    "You can make your table look prettier than the example I showed above if you like! (If you already know pandas, you can use that.)\n",
    "\n",
    "You can decide for yourself if you want to eliminate punctuation and function words (stop words) or not.  It's your collection!  \n"
   ]
  },
  {
   "cell_type": "code",
   "execution_count": 42,
   "metadata": {
    "collapsed": false
   },
   "outputs": [
    {
     "data": {
      "text/plain": [
       "'Transpacific-Partnership'"
      ]
     },
     "execution_count": 42,
     "metadata": {},
     "output_type": "execute_result"
    }
   ],
   "source": [
    "uniqueWords = [] \n",
    "for i in new_token:\n",
    "      if not i in uniqueWords:\n",
    "          uniqueWords.append(i);\n",
    "longest_word = max(new_token, key=len)\n",
    "longest_word"
   ]
  },
  {
   "cell_type": "code",
   "execution_count": 44,
   "metadata": {
    "collapsed": false
   },
   "outputs": [
    {
     "data": {
      "text/plain": [
       "6.744774314029242"
      ]
     },
     "execution_count": 44,
     "metadata": {},
     "output_type": "execute_result"
    }
   ],
   "source": [
    "x = [len(i) for i in new_token]\n",
    "average_word_length = sum(x)/len(new_token)\n",
    "average_word_length"
   ]
  },
  {
   "cell_type": "code",
   "execution_count": 45,
   "metadata": {
    "collapsed": false,
    "scrolled": true
   },
   "outputs": [
    {
     "name": "stdout",
     "output_type": "stream",
     "text": [
      "Number of Words  47123           \n",
      "Number of Unique words 5933            \n",
      "Average Word Length 6.744774        \n",
      "Longest Word     Transpacific-Partnership\n"
     ]
    }
   ],
   "source": [
    "print ('%-16s' % 'Number of Words', '%-16s' % len(new_token))\n",
    "print ('%-16s' % 'Number of Unique words', '%-16d' % len(uniqueWords))\n",
    "print ('%-16s' % 'Average Word Length', '%-16f' % average_word_length)\n",
    "print ('%-16s' % 'Longest Word', '%-16s' % longest_word)"
   ]
  },
  {
   "cell_type": "markdown",
   "metadata": {},
   "source": [
    "**Most Frequent Words List.** Next is the most frequent words list.  This table shows the percent of the total as well as the most frequent words, so compute this number as well.  "
   ]
  },
  {
   "cell_type": "code",
   "execution_count": 222,
   "metadata": {
    "collapsed": false,
    "scrolled": true
   },
   "outputs": [
    {
     "name": "stdout",
     "output_type": "stream",
     "text": [
      "Word             Percentage      \n",
      "going            4.078688        \n",
      "people           2.578359        \n",
      "great            1.313584        \n",
      "think            1.218089        \n",
      "country          1.069541        \n",
      "money            0.795790        \n",
      "right            0.766080        \n",
      "really           0.662097        \n",
      "would            0.592068        \n",
      "never            0.536893        \n",
      "Trump            0.526282        \n",
      "thing            0.494451        \n",
      "things           0.481718        \n",
      "China            0.422299        \n",
      "world            0.409566        \n",
      "years            0.407444        \n",
      "America          0.403200        \n",
      "million          0.394712        \n",
      "happen           0.388345        \n",
      "something        0.384101        \n"
     ]
    }
   ],
   "source": [
    "frequent_word_list = []\n",
    "common_tokens = freqdist.most_common(20)\n",
    "for i in common_tokens:\n",
    "    frequent_word_list.append([i[0],((i[1]/freqdist.N())*100)])\n",
    "frequent_word_list\n",
    "print ('%-16s' % 'Word', '%-16s' % 'Percentage')\n",
    "for item in frequent_word_list:\n",
    "    print ('%-16s' % item[0], '%-16f' % item[1])"
   ]
  },
  {
   "cell_type": "markdown",
   "metadata": {},
   "source": [
    "**Most Frequent Capitalized Words List** We haven't lower-cased the text so you should be able to compute this. Don't worry about whether capitalization comes from proper nouns, start of sentences, or elsewhere. You need to make a different FreqDist to do this one.  Write the code here for the new FreqDist and the List itself.  Show the list here."
   ]
  },
  {
   "cell_type": "code",
   "execution_count": 13,
   "metadata": {
    "collapsed": false
   },
   "outputs": [
    {
     "data": {
      "text/plain": [
       "[('Trump', 248),\n",
       " ('China', 199),\n",
       " ('America', 190),\n",
       " ('Mexico', 155),\n",
       " ('Hillary', 151),\n",
       " ('Thank', 148),\n",
       " ('GOING', 127),\n",
       " ('United', 124),\n",
       " ('States', 120),\n",
       " ('Right', 116),\n",
       " ('Clinton', 112),\n",
       " ('Obama', 108),\n",
       " (\"WE'RE\", 98),\n",
       " ('Israel', 82),\n",
       " ('American', 82),\n",
       " ('President', 80),\n",
       " ('PEOPLE', 74),\n",
       " ('Nobody', 73),\n",
       " ('South', 72),\n",
       " ('Japan', 64)]"
      ]
     },
     "execution_count": 13,
     "metadata": {},
     "output_type": "execute_result"
    }
   ],
   "source": [
    "capitalized_tokens = [i for i in new_token if i[0].isupper()]\n",
    "capitalized_tokens\n",
    "freqdist_capital = nltk.FreqDist(capitalized_tokens)  # compute the frequency distribution\n",
    "freqdist_capital.most_common(20)"
   ]
  },
  {
   "cell_type": "code",
   "execution_count": 15,
   "metadata": {
    "collapsed": false
   },
   "outputs": [
    {
     "name": "stdout",
     "output_type": "stream",
     "text": [
      "Word             Percentage      \n",
      "Trump            0.526282        \n",
      "China            0.422299        \n",
      "America          0.403200        \n",
      "Mexico           0.328926        \n",
      "Hillary          0.320438        \n",
      "Thank            0.314072        \n",
      "GOING            0.269507        \n",
      "United           0.263141        \n",
      "States           0.254653        \n",
      "Right            0.246164        \n",
      "Clinton          0.237676        \n",
      "Obama            0.229187        \n",
      "WE'RE            0.207966        \n",
      "Israel           0.174013        \n",
      "American         0.174013        \n",
      "President        0.169768        \n",
      "PEOPLE           0.157036        \n",
      "Nobody           0.154914        \n",
      "South            0.152792        \n",
      "Japan            0.135815        \n"
     ]
    }
   ],
   "source": [
    "frequent_word_list_capital = []\n",
    "common_tokens_capital = freqdist_capital.most_common(20)\n",
    "for i in common_tokens_capital:\n",
    "    frequent_word_list_capital.append([i[0],((i[1]/freqdist.N())*100)])\n",
    "print ('%-16s' % 'Word', '%-16s' % 'Percentage')\n",
    "for item in frequent_word_list_capital:\n",
    "    print ('%-16s' % item[0], '%-16f' % item[1])"
   ]
  },
  {
   "cell_type": "markdown",
   "metadata": {},
   "source": [
    "**Sentence Properties Table** This summarizes number of sentences and average sentence length in words and characters (you decide if you want to include stopwords/punctuation or not).  Print those out in a table here."
   ]
  },
  {
   "cell_type": "code",
   "execution_count": 53,
   "metadata": {
    "collapsed": false
   },
   "outputs": [
    {
     "name": "stdout",
     "output_type": "stream",
     "text": [
      "number of sentences 16493           \n",
      "average sentence length in words 2.857152        \n",
      "average sentence length in characters 54.342388       \n"
     ]
    }
   ],
   "source": [
    "avg_word = len(new_token)/len(sent_text)\n",
    "avg_char = len(text)/len(sent_text)\n",
    "print ('%-16s' % 'number of sentences', '%-16d' % len(sent_text))\n",
    "print ('%-16s' % 'average sentence length in words', '%-16f' % avg_word)\n",
    "print ('%-16s' % 'average sentence length in characters', '%-16f' % avg_char)"
   ]
  },
  {
   "cell_type": "markdown",
   "metadata": {},
   "source": [
    "**Reflect on the Output** (Write a brief paragraph below answering these questions.) What does it tell you about your collection?  What does it fail to tell you?  How does your collection perhaps differ from others?"
   ]
  },
  {
   "cell_type": "markdown",
   "metadata": {
    "collapsed": true
   },
   "source": [
    "### Reflection\n",
    "The above initial look at the collection helps give a quick overview of how the text collection might look. Statistics such as average sentence length illuminates the fact the speeches are made up of short bursts of words rather than long sentences. We get a look at the number of unique tokens and their frequence of occurence throughout the text and though they highlight certain key terms that are used commonly in a political campaign we still cannot see their significance as part of the bigger text. \n",
    "\n",
    "The initial look has currently failed to provide any meaningful insight into the text collection. An initial impression on the difference that the text might have from other collections seems to be the fact that Proper Nouns are a high subset of the most common words even when we did not account only for Capitalized words.\n",
    "\n",
    "Some Fun Notes: Given the political nature of the speeches it was still intersting to note the high use of terms such America, million, Obama, China, Hillary, Mexico, etc. It was interesting to note how 'Trump' was one of the most common words in a speech given by Donald Trump himself and might need further analysis. Also his emphasis on making America great again was clearly seen by the usage of the word 'great'.\n",
    "\n"
   ]
  },
  {
   "cell_type": "markdown",
   "metadata": {},
   "source": [
    "**Compare to Another Collection** Now do the same analysis on another collection in NLTK.  \n",
    "If your collection is a book, you can compare against another book.   Or you can contrast against an entirely different collection  (Brown corpus, presidential inaugural addresses, etc) to see the difference.\n",
    "The list of collections is here: http://www.nltk.org/nltk_data/\n",
    "Reflect on the similarities to or differences from your text collection.\n"
   ]
  },
  {
   "cell_type": "code",
   "execution_count": 17,
   "metadata": {
    "collapsed": false
   },
   "outputs": [],
   "source": [
    "with open(\"Dracula-Bram_Stoker.txt\") as w:\n",
    "    text = w.read()"
   ]
  },
  {
   "cell_type": "code",
   "execution_count": 22,
   "metadata": {
    "collapsed": false
   },
   "outputs": [
    {
     "data": {
      "text/plain": [
       "'You may copy it, give it away or\\nre-use it under the terms of the Project Gutenberg License included\\nwith this eBook or online at www.gutenberg.org/license\\n\\n\\nTitle: Dracula\\n\\nAuthor: Bram Stoker\\n\\nRelease Date: August 16, 2013 [EBook #345]\\n\\nLanguage: English\\n\\n\\n*** START OF THIS PROJECT GUTENBERG EBOOK DRACULA ***\\n\\n\\n\\n\\nProduced by Chuck Greif and the Online Distributed\\nProofreading Team at http://www.pgdp.net (This file was\\nproduced from images generously made available by The\\nInternet Archive)\\n\\n\\n\\n\\n\\n\\n\\n                                DRACULA\\n\\n\\n\\n\\n\\n                                DRACULA\\n\\n                                  _by_\\n\\n                              Bram Stoker\\n\\n                        [Illustration: colophon]\\n\\n                                NEW YORK\\n\\n                            GROSSET & DUNLAP\\n\\n                              _Publishers_\\n\\n      Copyright, 1897, in the United States of America, according\\n                   to Act of Congress, by Bram Stoker\\n\\n                        [_All rights reserved._]\\n\\n                      PRINTED IN THE UNITED STATES\\n                                   AT\\n               THE COUNTRY LIFE PRESS, GARDEN CITY, N.Y.\\n\\n\\n\\n\\n                                   TO\\n\\n                             MY DEAR FRIEND\\n\\n                               HOMMY-BEG\\n\\n\\n\\n\\nCONTENTS\\n\\n\\nCHAPTER I\\n                                                                    Page\\n\\nJonathan Harker\\'s Journal                                              1\\n\\nCHAPTER II\\n\\nJonathan Harker\\'s Journal                                             14\\n\\nCHAPTER III\\n\\nJonathan Harker\\'s Journal                                             26\\n\\nCHAPTER IV\\n\\nJonathan Harker\\'s Journal                                             38\\n\\nCHAPTER V\\n\\nLetters--Lucy and Mina                                                51\\n\\nCHAPTER VI\\n\\nMina Murray\\'s Journal                                                 59\\n\\nCHAPTER VII\\n\\nCutting from \"The Dailygraph,\" 8 August                               71\\n\\nCHAPTER VIII\\n\\nMina Murray\\'s Journal                                                 84\\n\\nCHAPTER IX\\n\\nMina Murray\\'s Journal                                                 98\\n\\nCHAPTER X\\n\\nMina Murray\\'s Journal                                                111\\n\\nCHAPTER XI\\n\\nLucy Westenra\\'s Diary                                                124\\n\\nCHAPTER XII\\n\\nDr. Seward\\'s Diary                                                   136\\n\\nCHAPTER XIII\\n\\nDr. Seward\\'s Diary                                                   152\\n\\nCHAPTER XIV\\n\\nMina Harker\\'s Journal                                                167\\n\\nCHAPTER XV\\n\\nDr. Seward\\'s Diary                                                   181\\n\\nCHAPTER XVI\\n\\nDr. Seward\\'s Diary                                                   194\\n\\nCHAPTER XVII\\n\\nDr. Seward\\'s Diary                                                   204\\n\\nCHAPTER XVIII\\n\\nDr. Seward\\'s Diary                                                   216\\n\\nCHAPTER XIX\\n\\nJonathan Harker\\'s Journal                                            231\\n\\nCHAPTER XX\\n\\nJonathan Harker\\'s Journal                                            243\\n\\nCHAPTER XXI\\n\\nDr. Seward\\'s Diary                                                   256\\n\\nCHAPTER XXII\\n\\nJonathan Harker\\'s Journal                                            269\\n\\nCHAPTER XXIII\\n\\nDr. Seward\\'s Diary                                                   281\\n\\nCHAPTER XXIV\\n\\nDr. Seward\\'s Phonograph Diary, spoken by Van Helsing                 294\\n\\nCHAPTER XXV\\n\\nDr. Seward\\'s Diary                                                   308\\n\\nCHAPTER XXVI\\n\\nDr. Seward\\'s Diary                                                   322\\n\\nCHAPTER XXVII\\n\\nMina Harker\\'s Journal                                                338\\n\\n\\n\\n\\nDRACULA\\n\\n\\n\\n\\nCHAPTER I\\n\\nJONATHAN HARKER\\'S JOURNAL\\n\\n(_Kept in shorthand._)\\n\\n\\n_3 May.'"
      ]
     },
     "execution_count": 22,
     "metadata": {},
     "output_type": "execute_result"
    }
   ],
   "source": [
    "sent_text = sent_tokenizer.tokenize(text)\n",
    "len(sent_text)\n",
    "sent_text[1]"
   ]
  },
  {
   "cell_type": "code",
   "execution_count": 18,
   "metadata": {
    "collapsed": false
   },
   "outputs": [
    {
     "data": {
      "text/plain": [
       "'This eBook is for the use of anyone anywhere at no cost and with'"
      ]
     },
     "execution_count": 18,
     "metadata": {},
     "output_type": "execute_result"
    }
   ],
   "source": [
    "para_text = re.sub('[\\n]+','\\n', text)\n",
    "para_text = para_text.split('\\n')\n",
    "opening_phrase = para_text[1]\n",
    "opening_phrase"
   ]
  },
  {
   "cell_type": "code",
   "execution_count": 25,
   "metadata": {
    "collapsed": false
   },
   "outputs": [
    {
     "name": "stdout",
     "output_type": "stream",
     "text": [
      "['Bistritz._--Left Munich at 8:35 P. M., on 1st May, arriving at\\nVienna early next morning; should have arrived at 6:46, but train was an\\nhour late.', 'Buda-Pesth seems a wonderful place, from the glimpse which I\\ngot of it from the train and the little I could walk through the\\nstreets.']\n"
     ]
    }
   ],
   "source": [
    "opening_phrase_modified = sent_text[2:4]\n",
    "print(opening_phrase_modified)"
   ]
  },
  {
   "cell_type": "code",
   "execution_count": 61,
   "metadata": {
    "collapsed": false
   },
   "outputs": [],
   "source": [
    "text = text.replace('\\ufeff', '')\n",
    "new_text_mod = re.sub('[\\n]+','\\n', text)\n",
    "sent_text_mod = sent_tokenizer.tokenize(new_text)\n",
    "# sent_text_mod"
   ]
  },
  {
   "cell_type": "code",
   "execution_count": 62,
   "metadata": {
    "collapsed": false
   },
   "outputs": [],
   "source": [
    "pattern = r'''(?x)  # set flag to allow verbose regexps\n",
    " (?:[A-Z]\\.)+[A-Z]*        # abbreviations, e.g. U.S.A.\n",
    "| [a-zA-Z]+(?:[-'][a-zA-Z]+)*            # words with optional internal hyphens or apostrophes         \n",
    "| \\$?\\d+(?:\\.\\d+)?%?     # currency (dollars only, e.g. $12.40, $33, $.9) and digits \n",
    "| [+/\\-@&*.,;\"'?():\\-_`] #special symbols\n",
    "'''\n",
    "\n",
    "Tokens_mod = nltk.regexp_tokenize(new_text_mod,pattern)\n",
    "# Tokens_mod"
   ]
  },
  {
   "cell_type": "code",
   "execution_count": 29,
   "metadata": {
    "collapsed": false
   },
   "outputs": [
    {
     "data": {
      "text/plain": [
       "[(',', 11396),\n",
       " ('.', 8383),\n",
       " ('the', 7472),\n",
       " ('and', 5797),\n",
       " ('I', 4795),\n",
       " ('to', 4501),\n",
       " ('of', 3706),\n",
       " ('\"', 2955),\n",
       " ('-', 2945),\n",
       " ('a', 2935),\n",
       " ('in', 2465),\n",
       " ('that', 2426),\n",
       " ('he', 1986),\n",
       " ('was', 1871),\n",
       " ('it', 1802),\n",
       " (';', 1684),\n",
       " ('is', 1501),\n",
       " ('for', 1480),\n",
       " ('as', 1476),\n",
       " ('me', 1453)]"
      ]
     },
     "execution_count": 29,
     "metadata": {},
     "output_type": "execute_result"
    }
   ],
   "source": [
    "mp_freqdist_mod = nltk.FreqDist(Tokens_mod)  # compute the frequency distribution\n",
    "mp_freqdist_mod.most_common(20) "
   ]
  },
  {
   "cell_type": "code",
   "execution_count": 57,
   "metadata": {
    "collapsed": false
   },
   "outputs": [],
   "source": [
    "punctuations = list(string.punctuation)\n",
    "modified_token_mod = [i for i in Tokens_mod if i not in punctuations and i.lower() not in stopwords.words('english')]\n",
    "new_token_mod = [i for i in modified_token_mod if len(i) >= 5]\n",
    "# new_token_mod"
   ]
  },
  {
   "cell_type": "code",
   "execution_count": 33,
   "metadata": {
    "collapsed": false
   },
   "outputs": [
    {
     "data": {
      "text/plain": [
       "[('could', 490),\n",
       " ('would', 427),\n",
       " ('shall', 425),\n",
       " ('Helsing', 295),\n",
       " ('seemed', 242),\n",
       " ('though', 217),\n",
       " ('think', 217),\n",
       " ('night', 209),\n",
       " ('looked', 185),\n",
       " ('Jonathan', 182),\n",
       " ('sleep', 179),\n",
       " ('great', 173),\n",
       " ('things', 171),\n",
       " ('little', 164),\n",
       " ('friend', 164),\n",
       " ('might', 159),\n",
       " ('found', 154),\n",
       " ('Professor', 153),\n",
       " ('Count', 149),\n",
       " ('thought', 146)]"
      ]
     },
     "execution_count": 33,
     "metadata": {},
     "output_type": "execute_result"
    }
   ],
   "source": [
    "freqdist_mod = nltk.FreqDist(new_token_mod)  # compute the frequency distribution\n",
    "freqdist_mod.most_common(20)"
   ]
  },
  {
   "cell_type": "code",
   "execution_count": 34,
   "metadata": {
    "collapsed": false
   },
   "outputs": [
    {
     "data": {
      "text/plain": [
       "'two-pages-to-the-week-with-Sunday-squeezed-in-a-corner'"
      ]
     },
     "execution_count": 34,
     "metadata": {},
     "output_type": "execute_result"
    }
   ],
   "source": [
    "uniqueWords_mod = [] \n",
    "for i in new_token_mod:\n",
    "      if not i in uniqueWords_mod:\n",
    "          uniqueWords_mod.append(i);\n",
    "longest_word_mod = max(new_token_mod, key=len)\n",
    "longest_word_mod"
   ]
  },
  {
   "cell_type": "code",
   "execution_count": 35,
   "metadata": {
    "collapsed": false
   },
   "outputs": [
    {
     "data": {
      "text/plain": [
       "6.710401249972874"
      ]
     },
     "execution_count": 35,
     "metadata": {},
     "output_type": "execute_result"
    }
   ],
   "source": [
    "x = [len(i) for i in new_token_mod]\n",
    "average_word_length_mod = sum(x)/len(new_token_mod)\n",
    "average_word_length_mod"
   ]
  },
  {
   "cell_type": "code",
   "execution_count": 36,
   "metadata": {
    "collapsed": false
   },
   "outputs": [
    {
     "name": "stdout",
     "output_type": "stream",
     "text": [
      "Number of Words  46081           \n",
      "Number of Unique words 9140            \n",
      "Average Word Length 6.710401        \n",
      "Longest Word     two-pages-to-the-week-with-Sunday-squeezed-in-a-corner\n"
     ]
    }
   ],
   "source": [
    "print ('%-16s' % 'Number of Words', '%-16s' % len(new_token_mod))\n",
    "print ('%-16s' % 'Number of Unique words', '%-16d' % len(uniqueWords_mod))\n",
    "print ('%-16s' % 'Average Word Length', '%-16f' % average_word_length_mod)\n",
    "print ('%-16s' % 'Longest Word', '%-16s' % longest_word_mod)"
   ]
  },
  {
   "cell_type": "code",
   "execution_count": 37,
   "metadata": {
    "collapsed": false
   },
   "outputs": [
    {
     "name": "stdout",
     "output_type": "stream",
     "text": [
      "Word             Percentage      \n",
      "could            1.063345        \n",
      "would            0.926629        \n",
      "shall            0.922289        \n",
      "Helsing          0.640177        \n",
      "seemed           0.525162        \n",
      "though           0.470910        \n",
      "think            0.470910        \n",
      "night            0.453549        \n",
      "looked           0.401467        \n",
      "Jonathan         0.394957        \n",
      "sleep            0.388446        \n",
      "great            0.375426        \n",
      "things           0.371086        \n",
      "little           0.355895        \n",
      "friend           0.355895        \n",
      "might            0.345045        \n",
      "found            0.334194        \n",
      "Professor        0.332024        \n",
      "Count            0.323344        \n",
      "thought          0.316833        \n"
     ]
    }
   ],
   "source": [
    "frequent_word_list_mod = []\n",
    "common_tokens_mod = freqdist_mod.most_common(20)\n",
    "for i in common_tokens_mod:\n",
    "    frequent_word_list_mod.append([i[0],((i[1]/freqdist_mod.N())*100)])\n",
    "frequent_word_list_mod\n",
    "print ('%-16s' % 'Word', '%-16s' % 'Percentage')\n",
    "for item in frequent_word_list_mod:\n",
    "    print ('%-16s' % item[0], '%-16f' % item[1])"
   ]
  },
  {
   "cell_type": "code",
   "execution_count": 38,
   "metadata": {
    "collapsed": false
   },
   "outputs": [
    {
     "data": {
      "text/plain": [
       "[('Helsing', 295),\n",
       " ('Jonathan', 182),\n",
       " ('Professor', 153),\n",
       " ('Count', 149),\n",
       " ('Arthur', 133),\n",
       " ('Harker', 106),\n",
       " ('Madam', 92),\n",
       " ('Godalming', 86),\n",
       " ('Project', 83),\n",
       " ('Quincey', 80),\n",
       " ('Seward', 80),\n",
       " ('Morris', 74),\n",
       " (\"Lucy's\", 74),\n",
       " ('London', 67),\n",
       " ('September', 61),\n",
       " ('Gutenberg-tm', 55),\n",
       " ('CHAPTER', 54),\n",
       " (\"Harker's\", 52),\n",
       " (\"Seward's\", 46),\n",
       " (\"Count's\", 45)]"
      ]
     },
     "execution_count": 38,
     "metadata": {},
     "output_type": "execute_result"
    }
   ],
   "source": [
    "capitalized_tokens_mod = [i for i in new_token_mod if i[0].isupper()]\n",
    "capitalized_tokens_mod\n",
    "freqdist_capital_mod = nltk.FreqDist(capitalized_tokens_mod)  # compute the frequency distribution\n",
    "freqdist_capital_mod.most_common(20)"
   ]
  },
  {
   "cell_type": "code",
   "execution_count": 39,
   "metadata": {
    "collapsed": false
   },
   "outputs": [
    {
     "name": "stdout",
     "output_type": "stream",
     "text": [
      "Word             Percentage      \n",
      "Helsing          0.640177        \n",
      "Jonathan         0.394957        \n",
      "Professor        0.332024        \n",
      "Count            0.323344        \n",
      "Arthur           0.288622        \n",
      "Harker           0.230030        \n",
      "Madam            0.199648        \n",
      "Godalming        0.186628        \n",
      "Project          0.180118        \n",
      "Quincey          0.173607        \n",
      "Seward           0.173607        \n",
      "Morris           0.160587        \n",
      "Lucy's           0.160587        \n",
      "London           0.145396        \n",
      "September        0.132376        \n",
      "Gutenberg-tm     0.119355        \n",
      "CHAPTER          0.117185        \n",
      "Harker's         0.112845        \n",
      "Seward's         0.099824        \n",
      "Count's          0.097654        \n"
     ]
    }
   ],
   "source": [
    "frequent_word_list_capital_mod = []\n",
    "common_tokens_capital_mod = freqdist_capital_mod.most_common(20)\n",
    "for i in common_tokens_capital_mod:\n",
    "    frequent_word_list_capital_mod.append([i[0],((i[1]/freqdist_mod.N())*100)])\n",
    "print ('%-16s' % 'Word', '%-16s' % 'Percentage')\n",
    "for item in frequent_word_list_capital_mod:\n",
    "    print ('%-16s' % item[0], '%-16f' % item[1])"
   ]
  },
  {
   "cell_type": "code",
   "execution_count": 40,
   "metadata": {
    "collapsed": false
   },
   "outputs": [
    {
     "name": "stdout",
     "output_type": "stream",
     "text": [
      "number of sentences 8569            \n",
      "average sentence length in words 5.377640        \n",
      "average sentence length in characters 101.195005      \n"
     ]
    }
   ],
   "source": [
    "avg_word_mod = len(new_token_mod)/len(sent_text_mod)\n",
    "avg_char_mod = len(text)/len(sent_text)\n",
    "print ('%-16s' % 'number of sentences', '%-16d' % len(sent_text))\n",
    "print ('%-16s' % 'average sentence length in words', '%-16f' % avg_word_mod)\n",
    "print ('%-16s' % 'average sentence length in characters', '%-16f' % avg_char_mod)"
   ]
  },
  {
   "cell_type": "code",
   "execution_count": 54,
   "metadata": {
    "collapsed": false
   },
   "outputs": [
    {
     "name": "stdout",
     "output_type": "stream",
     "text": [
      "Trump Speeches  \n",
      "Number of Words  47123           \n",
      "Number of Unique words 5933            \n",
      "Average Word Length 6.744774        \n",
      "Longest Word     Transpacific-Partnership\n",
      "number of sentences 16493           \n",
      "average sentence length in words 2.857152        \n",
      "average sentence length in characters 54.342388       \n"
     ]
    }
   ],
   "source": [
    "print ('%-16s' % 'Trump Speeches')\n",
    "print ('%-16s' % 'Number of Words', '%-16s' % len(new_token))\n",
    "print ('%-16s' % 'Number of Unique words', '%-16d' % len(uniqueWords))\n",
    "print ('%-16s' % 'Average Word Length', '%-16f' % average_word_length)\n",
    "print ('%-16s' % 'Longest Word', '%-16s' % longest_word)\n",
    "print ('%-16s' % 'number of sentences', '%-16d' % len(sent_text))\n",
    "print ('%-16s' % 'average sentence length in words', '%-16f' % avg_word)\n",
    "print ('%-16s' % 'average sentence length in characters', '%-16f' % avg_char)"
   ]
  },
  {
   "cell_type": "code",
   "execution_count": 56,
   "metadata": {
    "collapsed": false
   },
   "outputs": [
    {
     "name": "stdout",
     "output_type": "stream",
     "text": [
      "Dracula         \n",
      "Number of Words  46081           \n",
      "Number of Unique words 9140            \n",
      "Average Word Length 6.710401        \n",
      "Longest Word     two-pages-to-the-week-with-Sunday-squeezed-in-a-corner\n",
      "number of sentences 8569            \n",
      "average sentence length in words 5.377640        \n",
      "average sentence length in characters 101.195005      \n"
     ]
    }
   ],
   "source": [
    "print ('%-16s' % 'Dracula')\n",
    "print ('%-16s' % 'Number of Words', '%-16s' % len(new_token_mod))\n",
    "print ('%-16s' % 'Number of Unique words', '%-16d' % len(uniqueWords_mod))\n",
    "print ('%-16s' % 'Average Word Length', '%-16f' % average_word_length_mod)\n",
    "print ('%-16s' % 'Longest Word', '%-16s' % longest_word_mod)\n",
    "print ('%-16s' % 'number of sentences', '%-16d' % len(sent_text_mod))\n",
    "print ('%-16s' % 'average sentence length in words', '%-16f' % avg_word_mod)\n",
    "print ('%-16s' % 'average sentence length in characters', '%-16f' % avg_char_mod)"
   ]
  },
  {
   "cell_type": "markdown",
   "metadata": {},
   "source": [
    "### Comparison\n",
    "\n",
    "There seem to be some interesting similarities and differences within the text collections based on our initial first look. For my partner's collection - Dracula - there seems to be a lot initial text metadata, license and usage policy at the beginning of the file which is different from the structure of my collection. Comparing the first sentence in both the texts we see that for 'Speeches.txt' the initial sentence more closely resembles a sentence structure, however, the first sentence of 'Dracula' contained all the text collection metadata and chapter numbers and titles, which is incorrect and hence may require additonal clean up before tokenization.\n",
    "A similarity amongst both texts was that initially the most common words for both contained mostly stop words and punctuations rather than meaningful words. Both texts revealed better insights for common words after removing stop words, punctuations and short words. We see that the longest word due the inclusion of hyphens as part of tokens was a phrase rather than a word in both the texts.  \n",
    "\n",
    "Some very interesting comparison can be done when looking at the text properties:\n",
    "\n",
    "-- Both texts had similar average word length of approximately 6.7\n",
    "\n",
    "-- Number of words though similar in both the texts, 'Dracula' contained approximately 3000 more unique words than 'Trump Speeches' which might shed light on how Donald's Trump pattern on reiteration of his words and use of similar arguments in all his speeches (but it might be to premature to make such assumptions).\n",
    "\n",
    "-- The difference in the number of sentences and average sentence length show that 'Speeches.txt' contains almost double the number of sentences with almost half the sentence length. This is an intersting characteristic to note."
   ]
  },
  {
   "cell_type": "code",
   "execution_count": null,
   "metadata": {
    "collapsed": true
   },
   "outputs": [],
   "source": []
  }
 ],
 "metadata": {
  "kernelspec": {
   "display_name": "Python 2",
   "language": "python",
   "name": "python2"
  },
  "language_info": {
   "codemirror_mode": {
    "name": "ipython",
    "version": 2
   },
   "file_extension": ".py",
   "mimetype": "text/x-python",
   "name": "python",
   "nbconvert_exporter": "python",
   "pygments_lexer": "ipython2",
   "version": "2.7.10"
  }
 },
 "nbformat": 4,
 "nbformat_minor": 0
}
