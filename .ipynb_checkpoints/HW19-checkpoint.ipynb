{
 "cells": [
  {
   "cell_type": "code",
   "execution_count": 6,
   "metadata": {
    "collapsed": true
   },
   "outputs": [],
   "source": [
    "import nltk, re, pprint\n",
    "import nltk\n",
    "import matplotlib\n",
    "import string\n",
    "from nltk import word_tokenize\n",
    "from nltk.corpus import stopwords\n",
    "from nltk.tokenize import regexp_tokenize"
   ]
  },
  {
   "cell_type": "code",
   "execution_count": 3,
   "metadata": {
    "collapsed": false
   },
   "outputs": [],
   "source": [
    "text=\"The wise have become joyous in their folly and the poor happy in their riches.\""
   ]
  },
  {
   "cell_type": "code",
   "execution_count": 4,
   "metadata": {
    "collapsed": false
   },
   "outputs": [
    {
     "data": {
      "text/plain": [
       "'The wise have become joyous in their folly and the poor happy in their riches.'"
      ]
     },
     "execution_count": 4,
     "metadata": {},
     "output_type": "execute_result"
    }
   ],
   "source": [
    "text"
   ]
  },
  {
   "cell_type": "code",
   "execution_count": 7,
   "metadata": {
    "collapsed": false
   },
   "outputs": [],
   "source": [
    "text_token = word_tokenize(text)"
   ]
  },
  {
   "cell_type": "code",
   "execution_count": 8,
   "metadata": {
    "collapsed": false
   },
   "outputs": [
    {
     "data": {
      "text/plain": [
       "['The',\n",
       " 'wise',\n",
       " 'have',\n",
       " 'become',\n",
       " 'joyous',\n",
       " 'in',\n",
       " 'their',\n",
       " 'folly',\n",
       " 'and',\n",
       " 'the',\n",
       " 'poor',\n",
       " 'happy',\n",
       " 'in',\n",
       " 'their',\n",
       " 'riches',\n",
       " '.']"
      ]
     },
     "execution_count": 8,
     "metadata": {},
     "output_type": "execute_result"
    }
   ],
   "source": [
    "text_token"
   ]
  },
  {
   "cell_type": "code",
   "execution_count": 9,
   "metadata": {
    "collapsed": false
   },
   "outputs": [
    {
     "data": {
      "text/plain": [
       "[('The', 'DT'),\n",
       " ('wise', 'NN'),\n",
       " ('have', 'VBP'),\n",
       " ('become', 'VBN'),\n",
       " ('joyous', 'JJ'),\n",
       " ('in', 'IN'),\n",
       " ('their', 'PRP$'),\n",
       " ('folly', 'NN'),\n",
       " ('and', 'CC'),\n",
       " ('the', 'DT'),\n",
       " ('poor', 'JJ'),\n",
       " ('happy', 'JJ'),\n",
       " ('in', 'IN'),\n",
       " ('their', 'PRP$'),\n",
       " ('riches', 'NNS'),\n",
       " ('.', '.')]"
      ]
     },
     "execution_count": 9,
     "metadata": {},
     "output_type": "execute_result"
    }
   ],
   "source": [
    "nltk.pos_tag(text_token)"
   ]
  },
  {
   "cell_type": "code",
   "execution_count": 13,
   "metadata": {
    "collapsed": false
   },
   "outputs": [],
   "source": [
    "tokens = word_tokenize(text)"
   ]
  },
  {
   "cell_type": "code",
   "execution_count": 14,
   "metadata": {
    "collapsed": false
   },
   "outputs": [
    {
     "data": {
      "text/plain": [
       "['The',\n",
       " 'wise',\n",
       " 'have',\n",
       " 'become',\n",
       " 'joyous',\n",
       " 'in',\n",
       " 'their',\n",
       " 'folly',\n",
       " 'and',\n",
       " 'the',\n",
       " 'poor',\n",
       " 'happy',\n",
       " 'in',\n",
       " 'their',\n",
       " 'riches',\n",
       " '.']"
      ]
     },
     "execution_count": 14,
     "metadata": {},
     "output_type": "execute_result"
    }
   ],
   "source": [
    "tokens"
   ]
  },
  {
   "cell_type": "code",
   "execution_count": 15,
   "metadata": {
    "collapsed": false
   },
   "outputs": [
    {
     "data": {
      "text/plain": [
       "[('The', 'DT'),\n",
       " ('wise', 'NN'),\n",
       " ('have', 'VBP'),\n",
       " ('become', 'VBN'),\n",
       " ('joyous', 'JJ'),\n",
       " ('in', 'IN'),\n",
       " ('their', 'PRP$'),\n",
       " ('folly', 'NN'),\n",
       " ('and', 'CC'),\n",
       " ('the', 'DT'),\n",
       " ('poor', 'JJ'),\n",
       " ('happy', 'JJ'),\n",
       " ('in', 'IN'),\n",
       " ('their', 'PRP$'),\n",
       " ('riches', 'NNS'),\n",
       " ('.', '.')]"
      ]
     },
     "execution_count": 15,
     "metadata": {},
     "output_type": "execute_result"
    }
   ],
   "source": [
    "nltk.pos_tag(tokens)"
   ]
  },
  {
   "cell_type": "code",
   "execution_count": 16,
   "metadata": {
    "collapsed": false
   },
   "outputs": [
    {
     "data": {
      "text/plain": [
       "[('The', 'DT'),\n",
       " ('wise', 'NN'),\n",
       " ('have', 'VBP'),\n",
       " ('become', 'VBN'),\n",
       " ('joyous', 'JJ'),\n",
       " ('in', 'IN'),\n",
       " ('their', 'PRP$'),\n",
       " ('folly', 'NN'),\n",
       " ('and', 'CC'),\n",
       " ('the', 'DT'),\n",
       " ('poor', 'JJ'),\n",
       " ('happy', 'JJ'),\n",
       " ('in', 'IN'),\n",
       " ('their', 'PRP$'),\n",
       " ('riches', 'NNS'),\n",
       " ('.', '.')]"
      ]
     },
     "execution_count": 16,
     "metadata": {},
     "output_type": "execute_result"
    }
   ],
   "source": [
    "nltk.pos_tag(text_token)"
   ]
  },
  {
   "cell_type": "code",
   "execution_count": 40,
   "metadata": {
    "collapsed": false
   },
   "outputs": [
    {
     "name": "stdout",
     "output_type": "stream",
     "text": [
      "adventure\n",
      "[('NOUN', 13354), ('VERB', 12274), ('.', 10929), ('DET', 8155), ('ADP', 7069), ('PRON', 5205), ('ADV', 3879), ('ADJ', 3364), ('PRT', 2436), ('CONJ', 2173), ('NUM', 466), ('X', 38)]\n",
      "belles_lettres\n",
      "[('NOUN', 39546), ('VERB', 26354), ('ADP', 23214), ('DET', 21695), ('.', 20975), ('ADJ', 13311), ('ADV', 8498), ('PRON', 7715), ('CONJ', 5954), ('PRT', 3919), ('NUM', 1566), ('X', 349)]\n",
      "editorial\n",
      "[('NOUN', 15170), ('VERB', 9896), ('ADP', 7613), ('DET', 7416), ('.', 7099), ('ADJ', 4958), ('ADV', 2997), ('PRON', 2291), ('CONJ', 1862), ('PRT', 1536), ('NUM', 722), ('X', 44)]\n",
      "fiction\n",
      "[('NOUN', 13509), ('VERB', 12299), ('.', 10170), ('DET', 8018), ('ADP', 7198), ('PRON', 4799), ('ADV', 3716), ('ADJ', 3684), ('PRT', 2305), ('CONJ', 2261), ('NUM', 446), ('X', 83)]\n",
      "government\n",
      "[('NOUN', 19486), ('ADP', 10221), ('VERB', 9872), ('DET', 8043), ('.', 7598), ('ADJ', 5692), ('CONJ', 2560), ('ADV', 2333), ('NUM', 1612), ('PRT', 1358), ('PRON', 1269), ('X', 73)]\n",
      "hobbies\n",
      "[('NOUN', 21276), ('VERB', 12733), ('ADP', 10070), ('.', 9792), ('DET', 9497), ('ADJ', 6559), ('ADV', 3736), ('CONJ', 2948), ('PRON', 2334), ('PRT', 1889), ('NUM', 1426), ('X', 85)]\n",
      "humor\n",
      "[('NOUN', 4405), ('VERB', 3546), ('.', 3419), ('DET', 2459), ('ADP', 2392), ('ADJ', 1362), ('PRON', 1357), ('ADV', 1172), ('CONJ', 713), ('PRT', 663), ('NUM', 154), ('X', 53)]\n",
      "learned\n",
      "[('NOUN', 46295), ('VERB', 27145), ('ADP', 25938), ('DET', 22296), ('.', 19632), ('ADJ', 15520), ('ADV', 8582), ('CONJ', 5783), ('PRON', 3799), ('PRT', 3471), ('NUM', 3187), ('X', 240)]\n",
      "lore\n",
      "[('NOUN', 26749), ('VERB', 16972), ('ADP', 14405), ('DET', 13381), ('.', 13073), ('ADJ', 8445), ('ADV', 5500), ('PRON', 3970), ('CONJ', 3793), ('PRT', 2644), ('NUM', 1270), ('X', 97)]\n",
      "mystery\n",
      "[('NOUN', 10673), ('VERB', 10383), ('.', 8962), ('DET', 6209), ('ADP', 5755), ('PRON', 4362), ('ADV', 3493), ('ADJ', 2721), ('PRT', 2426), ('CONJ', 1696), ('NUM', 472), ('X', 17)]\n",
      "news\n",
      "[('NOUN', 30654), ('VERB', 14399), ('ADP', 12355), ('.', 11928), ('DET', 11389), ('ADJ', 6706), ('ADV', 3349), ('CONJ', 2717), ('PRON', 2535), ('PRT', 2264), ('NUM', 2166), ('X', 92)]\n",
      "religion\n",
      "[('NOUN', 8616), ('VERB', 6036), ('ADP', 5335), ('DET', 4948), ('.', 4809), ('ADJ', 3004), ('ADV', 2087), ('PRON', 1770), ('CONJ', 1353), ('PRT', 910), ('NUM', 510), ('X', 21)]\n",
      "reviews\n",
      "[('NOUN', 10528), ('VERB', 5478), ('.', 5354), ('ADP', 4832), ('DET', 4720), ('ADJ', 3554), ('ADV', 2083), ('CONJ', 1453), ('PRON', 1246), ('PRT', 870), ('NUM', 477), ('X', 109)]\n",
      "romance\n",
      "[('VERB', 12784), ('NOUN', 12550), ('.', 11397), ('DET', 7211), ('ADP', 6918), ('PRON', 5748), ('ADV', 3986), ('ADJ', 3912), ('PRT', 2655), ('CONJ', 2469), ('NUM', 321), ('X', 71)]\n",
      "science_fiction\n",
      "[('NOUN', 2747), ('VERB', 2579), ('.', 2428), ('DET', 1582), ('ADP', 1451), ('PRON', 934), ('ADJ', 929), ('ADV', 828), ('PRT', 483), ('CONJ', 416), ('NUM', 79), ('X', 14)]\n"
     ]
    }
   ],
   "source": [
    "from nltk.corpus import brown\n",
    "i = 0;\n",
    "tagging = [];\n",
    "tagging_freq = [];\n",
    "brown.categories()\n",
    "for item in brown.categories():\n",
    "    tagged = brown.tagged_words(categories = item, tagset='universal')\n",
    "    #tagging.appendbrown.tagged_words(categories = item, tagset='universal'))\n",
    "    temp = nltk.FreqDist(tag for (word, tag) in tagged)\n",
    "    tagging_freq.append(temp.most_common())\n",
    "    \n",
    "for item in brown.categories():\n",
    "    print(item);\n",
    "    print(tagging_freq[i])\n",
    "    i = i+1;\n",
    "\n",
    "    "
   ]
  },
  {
   "cell_type": "code",
   "execution_count": 41,
   "metadata": {
    "collapsed": false
   },
   "outputs": [
    {
     "data": {
      "text/plain": [
       "[('NOUN', 275558),\n",
       " ('VERB', 182750),\n",
       " ('.', 147565),\n",
       " ('ADP', 144766),\n",
       " ('DET', 137019),\n",
       " ('ADJ', 83721),\n",
       " ('ADV', 56239),\n",
       " ('PRON', 49334),\n",
       " ('CONJ', 38151),\n",
       " ('PRT', 29829),\n",
       " ('NUM', 14874),\n",
       " ('X', 1386)]"
      ]
     },
     "execution_count": 41,
     "metadata": {},
     "output_type": "execute_result"
    }
   ],
   "source": [
    "brown_news_tagged = brown.tagged_words(tagset='universal')\n",
    "brown_news_tagged\n",
    "tag_fd = nltk.FreqDist(tag for (word, tag) in brown_news_tagged)\n",
    "tag_fd.most_common()"
   ]
  },
  {
   "cell_type": "code",
   "execution_count": 43,
   "metadata": {
    "collapsed": false
   },
   "outputs": [
    {
     "data": {
      "text/plain": [
       "['NOUN',\n",
       " 'PRON',\n",
       " 'VERB',\n",
       " 'PRT',\n",
       " '.',\n",
       " 'ADV',\n",
       " 'DET',\n",
       " 'CONJ',\n",
       " 'ADP',\n",
       " 'ADJ',\n",
       " 'NUM',\n",
       " 'X']"
      ]
     },
     "execution_count": 43,
     "metadata": {},
     "output_type": "execute_result"
    }
   ],
   "source": [
    "brown_news_tagged = brown.tagged_words(tagset='universal')\n",
    "word_tag_pairs = nltk.bigrams(brown_news_tagged)\n",
    "verb_preceders = [a[1] for (a, b) in word_tag_pairs if b[1] == 'VERB']\n",
    "fdist = nltk.FreqDist(verb_preceders)\n",
    "[tag for (tag, _) in fdist.most_common()]"
   ]
  },
  {
   "cell_type": "code",
   "execution_count": null,
   "metadata": {
    "collapsed": true
   },
   "outputs": [],
   "source": []
  }
 ],
 "metadata": {
  "kernelspec": {
   "display_name": "Python 3",
   "language": "python",
   "name": "python3"
  },
  "language_info": {
   "codemirror_mode": {
    "name": "ipython",
    "version": 3
   },
   "file_extension": ".py",
   "mimetype": "text/x-python",
   "name": "python",
   "nbconvert_exporter": "python",
   "pygments_lexer": "ipython3",
   "version": "3.5.2"
  }
 },
 "nbformat": 4,
 "nbformat_minor": 1
}
